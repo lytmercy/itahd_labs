{
 "cells": [
  {
   "cell_type": "code",
   "execution_count": 1,
   "metadata": {
    "collapsed": true
   },
   "outputs": [],
   "source": [
    "# Import scripts for this practice work\n",
    "from src import lab_4_ec2, lab_4_s3, utils, lab_4_key_pairs"
   ]
  },
  {
   "cell_type": "code",
   "execution_count": 2,
   "outputs": [],
   "source": [
    "# Create keypair\n",
    "lab_4_key_pairs.create_pairs()"
   ],
   "metadata": {
    "collapsed": false,
    "ExecuteTime": {
     "end_time": "2023-05-03T13:44:19.224280400Z",
     "start_time": "2023-05-03T13:44:18.451723200Z"
    }
   }
  },
  {
   "cell_type": "markdown",
   "source": [
    "## Apply script for EC2 Manipulation"
   ],
   "metadata": {
    "collapsed": false
   }
  },
  {
   "cell_type": "code",
   "execution_count": 3,
   "outputs": [],
   "source": [
    "# Define EC2 Client\n",
    "ec2_client = utils.connect_to_boto_client(\"ec2\")"
   ],
   "metadata": {
    "collapsed": false,
    "ExecuteTime": {
     "end_time": "2023-05-03T14:48:59.104651400Z",
     "start_time": "2023-05-03T14:48:59.093648600Z"
    }
   }
  },
  {
   "cell_type": "code",
   "execution_count": 4,
   "outputs": [
    {
     "name": "stdout",
     "output_type": "stream",
     "text": [
      "Instance create successfully!!\n",
      "with id: i-0e4bd7f123529b0bb\n"
     ]
    }
   ],
   "source": [
    "# Create instance\n",
    "instance_id = lab_4_ec2.create_instance(ec2_client)"
   ],
   "metadata": {
    "collapsed": false,
    "ExecuteTime": {
     "end_time": "2023-05-03T14:49:26.391624100Z",
     "start_time": "2023-05-03T14:49:25.002688900Z"
    }
   }
  },
  {
   "cell_type": "code",
   "execution_count": 5,
   "outputs": [
    {
     "name": "stdout",
     "output_type": "stream",
     "text": [
      "Instance stops successfully!\n"
     ]
    }
   ],
   "source": [
    "# Stop instance\n",
    "lab_4_ec2.instance_manipulation(ec2_client, instance_id, action=\"stop\")"
   ],
   "metadata": {
    "collapsed": false,
    "ExecuteTime": {
     "end_time": "2023-05-03T14:52:21.659362900Z",
     "start_time": "2023-05-03T14:52:20.996262600Z"
    }
   }
  },
  {
   "cell_type": "code",
   "execution_count": 6,
   "outputs": [
    {
     "name": "stdout",
     "output_type": "stream",
     "text": [
      "Instance starts successfully!\n"
     ]
    }
   ],
   "source": [
    "# Start instance\n",
    "lab_4_ec2.instance_manipulation(ec2_client, instance_id, action=\"start\")"
   ],
   "metadata": {
    "collapsed": false,
    "ExecuteTime": {
     "end_time": "2023-05-03T14:53:17.538227800Z",
     "start_time": "2023-05-03T14:53:17.017751100Z"
    }
   }
  },
  {
   "cell_type": "code",
   "execution_count": 7,
   "outputs": [
    {
     "name": "stdout",
     "output_type": "stream",
     "text": [
      "Instance start rebooting successfully!\n"
     ]
    }
   ],
   "source": [
    "# Reboot instance\n",
    "lab_4_ec2.instance_manipulation(ec2_client, instance_id, action=\"reboot\")"
   ],
   "metadata": {
    "collapsed": false,
    "ExecuteTime": {
     "end_time": "2023-05-03T14:55:59.136499900Z",
     "start_time": "2023-05-03T14:55:58.744636100Z"
    }
   }
  },
  {
   "cell_type": "code",
   "execution_count": 8,
   "outputs": [
    {
     "name": "stdout",
     "output_type": "stream",
     "text": [
      "Instance Id\t\t|\ttype\t|\tpublic ip\t|\tstate\n",
      "============================================\n",
      "i-0e4bd7f123529b0bb\t|\tt2.micro\t|\t18.198.50.11\t|\trunning\n"
     ]
    }
   ],
   "source": [
    "# Get running instances\n",
    "lab_4_ec2.get_instance_info(ec2_client, instance_id)"
   ],
   "metadata": {
    "collapsed": false,
    "ExecuteTime": {
     "end_time": "2023-05-03T14:57:04.878917500Z",
     "start_time": "2023-05-03T14:57:04.721919900Z"
    }
   }
  },
  {
   "cell_type": "code",
   "execution_count": 9,
   "outputs": [
    {
     "name": "stdout",
     "output_type": "stream",
     "text": [
      "Instance info:\n",
      "\t\tid:\ti-0e4bd7f123529b0bb\n",
      "\t\ttype:\tt2.micro\n",
      "\t\tpublic ip:\t18.198.50.11\n",
      "\t\tstate:\trunning\n"
     ]
    }
   ],
   "source": [
    "# Get base instance info\n",
    "lab_4_ec2.get_instance_info(ec2_client, instance_id, info_type=\"base_info\")"
   ],
   "metadata": {
    "collapsed": false,
    "ExecuteTime": {
     "end_time": "2023-05-03T14:57:10.431315600Z",
     "start_time": "2023-05-03T14:57:10.347318Z"
    }
   }
  },
  {
   "cell_type": "code",
   "execution_count": 10,
   "outputs": [
    {
     "name": "stdout",
     "output_type": "stream",
     "text": [
      "Instance public ip: 18.198.50.11\n"
     ]
    }
   ],
   "source": [
    "# Get public ip of instance\n",
    "lab_4_ec2.get_instance_info(ec2_client, instance_id, info_type=\"pub_ip\")"
   ],
   "metadata": {
    "collapsed": false,
    "ExecuteTime": {
     "end_time": "2023-05-03T14:57:11.135379400Z",
     "start_time": "2023-05-03T14:57:11.043315100Z"
    }
   }
  },
  {
   "cell_type": "code",
   "execution_count": 11,
   "outputs": [
    {
     "name": "stdout",
     "output_type": "stream",
     "text": [
      "Termination instance with id: i-0e4bd7f123529b0bb done successfully!\n"
     ]
    }
   ],
   "source": [
    "# Terminate instance\n",
    "lab_4_ec2.terminate_instance(ec2_client, instance_id)"
   ],
   "metadata": {
    "collapsed": false,
    "ExecuteTime": {
     "end_time": "2023-05-03T14:57:43.269667400Z",
     "start_time": "2023-05-03T14:57:42.572654200Z"
    }
   }
  },
  {
   "cell_type": "markdown",
   "source": [
    "## Apply script for S3 Manipulation"
   ],
   "metadata": {
    "collapsed": false
   }
  },
  {
   "cell_type": "code",
   "execution_count": 3,
   "outputs": [],
   "source": [
    "# Define S3 Client\n",
    "s3_client = utils.connect_to_boto_client(\"s3\")"
   ],
   "metadata": {
    "collapsed": false,
    "ExecuteTime": {
     "end_time": "2023-05-03T15:24:40.830179700Z",
     "start_time": "2023-05-03T15:24:40.483181600Z"
    }
   }
  },
  {
   "cell_type": "code",
   "execution_count": 4,
   "outputs": [],
   "source": [
    "# Define new bucket name\n",
    "bucket_name = \"pysdkbucket\""
   ],
   "metadata": {
    "collapsed": false,
    "ExecuteTime": {
     "end_time": "2023-05-03T15:24:40.841178300Z",
     "start_time": "2023-05-03T15:24:40.827181700Z"
    }
   }
  },
  {
   "cell_type": "code",
   "execution_count": 14,
   "outputs": [
    {
     "name": "stdout",
     "output_type": "stream",
     "text": [
      "Bucket 'pysdkbucket' was create successfully!\n"
     ]
    },
    {
     "data": {
      "text/plain": "True"
     },
     "execution_count": 14,
     "metadata": {},
     "output_type": "execute_result"
    }
   ],
   "source": [
    "# Create bucket\n",
    "lab_4_s3.create_bucket(s3_client, bucket_name)"
   ],
   "metadata": {
    "collapsed": false,
    "ExecuteTime": {
     "end_time": "2023-05-03T15:00:25.640461800Z",
     "start_time": "2023-05-03T15:00:24.707373100Z"
    }
   }
  },
  {
   "cell_type": "code",
   "execution_count": 15,
   "outputs": [
    {
     "name": "stdout",
     "output_type": "stream",
     "text": [
      "Existing buckets in your region:\n",
      "\tlab2itbucket\n",
      "\tpysdkbucket\n"
     ]
    }
   ],
   "source": [
    "# Get list of existing buckets\n",
    "lab_4_s3.get_bucket_info(s3_client, bucket_name)"
   ],
   "metadata": {
    "collapsed": false,
    "ExecuteTime": {
     "end_time": "2023-05-03T15:00:28.875950600Z",
     "start_time": "2023-05-03T15:00:28.642606800Z"
    }
   }
  },
  {
   "cell_type": "code",
   "execution_count": 16,
   "outputs": [
    {
     "name": "stdout",
     "output_type": "stream",
     "text": [
      "List of object in bucket:\n",
      "File: lab-21awscli.pdf\n",
      "Storage Class: STANDARD\n",
      "---------------------------\n",
      "File: s3_eur_chart.png\n",
      "Storage Class: STANDARD\n",
      "---------------------------\n",
      "File: s3_eur_currency.csv\n",
      "Storage Class: STANDARD\n",
      "---------------------------\n",
      "File: s3_usd_chart.png\n",
      "Storage Class: STANDARD\n",
      "---------------------------\n",
      "File: s3_usd_currency.csv\n",
      "Storage Class: STANDARD\n",
      "---------------------------\n"
     ]
    }
   ],
   "source": [
    "# Get object in existing bucket\n",
    "lab_4_s3.get_bucket_info(s3_client, \"lab2itbucket\", info_type=\"files\")"
   ],
   "metadata": {
    "collapsed": false,
    "ExecuteTime": {
     "end_time": "2023-05-03T15:02:55.861615300Z",
     "start_time": "2023-05-03T15:02:55.594565700Z"
    }
   }
  },
  {
   "cell_type": "code",
   "execution_count": 17,
   "outputs": [],
   "source": [
    "# Upload file to bucket\n",
    "input_folder = \"../input/\"\n",
    "files_to_upload = [\"ai_adam.jpg\", \"python.jpg\", \"triangle.jpg\"]\n",
    "for file_name in files_to_upload:\n",
    "    upload_file = input_folder + file_name\n",
    "    bucket_file_name = f\"{file_name[:2]}_S3_{file_name[2:]}\"\n",
    "    lab_4_s3.bucket_manipulation(s3_client, bucket_name, \"upload\", upload_file, bucket_file_name)"
   ],
   "metadata": {
    "collapsed": false,
    "ExecuteTime": {
     "end_time": "2023-05-03T15:03:22.806920700Z",
     "start_time": "2023-05-03T15:03:21.917679800Z"
    }
   }
  },
  {
   "cell_type": "code",
   "execution_count": 18,
   "outputs": [],
   "source": [
    "# Download file from bucket\n",
    "download_file = f\"{files_to_upload[1][:2]}_S3_{files_to_upload[1][2:]}\"\n",
    "file_path = \"../output/s3_\" + files_to_upload[1]\n",
    "lab_4_s3.bucket_manipulation(s3_client, bucket_name, \"download\", file_path, download_file)"
   ],
   "metadata": {
    "collapsed": false,
    "ExecuteTime": {
     "end_time": "2023-05-03T15:03:30.918765100Z",
     "start_time": "2023-05-03T15:03:30.518498900Z"
    }
   }
  },
  {
   "cell_type": "code",
   "execution_count": 19,
   "outputs": [
    {
     "name": "stdout",
     "output_type": "stream",
     "text": [
      "List of object in bucket:\n",
      "File: ai_S3__adam.jpg\n",
      "Storage Class: STANDARD\n",
      "---------------------------\n",
      "File: py_S3_thon.jpg\n",
      "Storage Class: STANDARD\n",
      "---------------------------\n",
      "File: tr_S3_iangle.jpg\n",
      "Storage Class: STANDARD\n",
      "---------------------------\n"
     ]
    }
   ],
   "source": [
    "# Check files on s3 bucket\n",
    "lab_4_s3.get_bucket_info(s3_client, bucket_name, info_type=\"files\")"
   ],
   "metadata": {
    "collapsed": false,
    "ExecuteTime": {
     "end_time": "2023-05-03T15:04:12.690578Z",
     "start_time": "2023-05-03T15:04:12.459476100Z"
    }
   }
  },
  {
   "cell_type": "markdown",
   "source": [
    "### Check exception to S3 Bucket Creation"
   ],
   "metadata": {
    "collapsed": false
   }
  },
  {
   "cell_type": "code",
   "execution_count": 20,
   "outputs": [
    {
     "name": "stdout",
     "output_type": "stream",
     "text": [
      "Creation bucket error: An error occurred (BucketAlreadyOwnedByYou) when calling the CreateBucket operation: Your previous request to create the named bucket succeeded and you already own it.\n"
     ]
    },
    {
     "data": {
      "text/plain": "False"
     },
     "execution_count": 20,
     "metadata": {},
     "output_type": "execute_result"
    }
   ],
   "source": [
    "# Create bucket with same name\n",
    "lab_4_s3.create_bucket(s3_client, bucket_name)"
   ],
   "metadata": {
    "collapsed": false,
    "ExecuteTime": {
     "end_time": "2023-05-03T15:07:51.819949300Z",
     "start_time": "2023-05-03T15:07:51.330951300Z"
    }
   }
  },
  {
   "cell_type": "markdown",
   "source": [
    "### Check exception to S3 File Download"
   ],
   "metadata": {
    "collapsed": false
   }
  },
  {
   "cell_type": "code",
   "execution_count": 21,
   "outputs": [
    {
     "name": "stdout",
     "output_type": "stream",
     "text": [
      "Download file error: An error occurred (404) when calling the HeadObject operation: Not Found\n"
     ]
    }
   ],
   "source": [
    "# Download unexisting file from bucket\n",
    "lab_4_s3.bucket_manipulation(s3_client, bucket_name, \"download\", \"../output/s3_file.txt\", \"s3_bucket_file.txt\")"
   ],
   "metadata": {
    "collapsed": false,
    "ExecuteTime": {
     "end_time": "2023-05-03T15:07:55.537202Z",
     "start_time": "2023-05-03T15:07:55.466202100Z"
    }
   }
  },
  {
   "cell_type": "markdown",
   "source": [
    "### Check exception to S3 File Upload"
   ],
   "metadata": {
    "collapsed": false
   }
  },
  {
   "cell_type": "code",
   "execution_count": 22,
   "outputs": [
    {
     "name": "stdout",
     "output_type": "stream",
     "text": [
      "File not found error: [WinError 2] The system cannot find the file specified: '../input/cython.py'\n"
     ]
    }
   ],
   "source": [
    "# Upload unexisting file to bucket\n",
    "lab_4_s3.bucket_manipulation(s3_client, bucket_name, \"upload\", \"../input/cython.py\", \"s3_cython.py\")"
   ],
   "metadata": {
    "collapsed": false,
    "ExecuteTime": {
     "end_time": "2023-05-03T15:08:02.686261200Z",
     "start_time": "2023-05-03T15:08:02.662261600Z"
    }
   }
  },
  {
   "cell_type": "markdown",
   "source": [
    "## Deletion bucket"
   ],
   "metadata": {
    "collapsed": false
   }
  },
  {
   "cell_type": "code",
   "execution_count": 5,
   "outputs": [
    {
     "name": "stdout",
     "output_type": "stream",
     "text": [
      "Bucket 'pysdkbucket' was delete successfully!\n"
     ]
    },
    {
     "data": {
      "text/plain": "True"
     },
     "execution_count": 5,
     "metadata": {},
     "output_type": "execute_result"
    }
   ],
   "source": [
    "lab_4_s3.delete_bucket(s3_client, bucket_name)"
   ],
   "metadata": {
    "collapsed": false,
    "ExecuteTime": {
     "end_time": "2023-05-03T15:24:48.428867400Z",
     "start_time": "2023-05-03T15:24:47.716866300Z"
    }
   }
  },
  {
   "cell_type": "code",
   "execution_count": null,
   "outputs": [],
   "source": [
    "# Delete keypair\n",
    "lab_4_key_pairs.delete_pairs()"
   ],
   "metadata": {
    "collapsed": false
   }
  }
 ],
 "metadata": {
  "kernelspec": {
   "display_name": "Python 3",
   "language": "python",
   "name": "python3"
  },
  "language_info": {
   "codemirror_mode": {
    "name": "ipython",
    "version": 2
   },
   "file_extension": ".py",
   "mimetype": "text/x-python",
   "name": "python",
   "nbconvert_exporter": "python",
   "pygments_lexer": "ipython2",
   "version": "2.7.6"
  }
 },
 "nbformat": 4,
 "nbformat_minor": 0
}
