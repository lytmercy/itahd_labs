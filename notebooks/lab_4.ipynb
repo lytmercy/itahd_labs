{
 "cells": [
  {
   "cell_type": "code",
   "execution_count": 1,
   "metadata": {
    "collapsed": true,
    "ExecuteTime": {
     "end_time": "2023-05-02T16:54:38.769431100Z",
     "start_time": "2023-05-02T16:54:38.562434300Z"
    }
   },
   "outputs": [],
   "source": [
    "# Import scripts for this practice work\n",
    "from src import lab_4_ec2, lab_4_s3, utils, lab_4_key_pairs"
   ]
  },
  {
   "cell_type": "code",
   "execution_count": null,
   "outputs": [],
   "source": [
    "# Create keypair\n",
    "lab_4_key_pairs.create_pairs()"
   ],
   "metadata": {
    "collapsed": false
   }
  },
  {
   "cell_type": "markdown",
   "source": [
    "## Apply script for EC2 Manipulation"
   ],
   "metadata": {
    "collapsed": false
   }
  },
  {
   "cell_type": "code",
   "execution_count": 2,
   "outputs": [],
   "source": [
    "# Define EC2 Client\n",
    "ec2_client = utils.connect_to_boto_client(\"ec2\")"
   ],
   "metadata": {
    "collapsed": false,
    "ExecuteTime": {
     "end_time": "2023-05-02T16:42:59.486115700Z",
     "start_time": "2023-05-02T16:42:59.152116500Z"
    }
   }
  },
  {
   "cell_type": "code",
   "execution_count": 3,
   "outputs": [
    {
     "name": "stdout",
     "output_type": "stream",
     "text": [
      "Instance create successfully!!\n",
      "with id: i-0f420a1888c002ba0\n"
     ]
    }
   ],
   "source": [
    "# Create instance\n",
    "instance_id = lab_4_ec2.create_instance(ec2_client)"
   ],
   "metadata": {
    "collapsed": false,
    "ExecuteTime": {
     "end_time": "2023-05-02T16:43:41.690790200Z",
     "start_time": "2023-05-02T16:43:40.493105900Z"
    }
   }
  },
  {
   "cell_type": "code",
   "execution_count": null,
   "outputs": [],
   "source": [
    "# Define existing instance\n",
    "instance_id = \"\""
   ],
   "metadata": {
    "collapsed": false
   }
  },
  {
   "cell_type": "code",
   "execution_count": 4,
   "outputs": [
    {
     "name": "stdout",
     "output_type": "stream",
     "text": [
      "Instance stops successfully!\n"
     ]
    }
   ],
   "source": [
    "# Stop instance\n",
    "lab_4_ec2.instance_manipulation(ec2_client, instance_id, action=\"stop\")"
   ],
   "metadata": {
    "collapsed": false,
    "ExecuteTime": {
     "end_time": "2023-05-02T16:44:19.912561400Z",
     "start_time": "2023-05-02T16:44:19.417053200Z"
    }
   }
  },
  {
   "cell_type": "code",
   "execution_count": 7,
   "outputs": [
    {
     "name": "stdout",
     "output_type": "stream",
     "text": [
      "Instance starts successfully!\n"
     ]
    }
   ],
   "source": [
    "# Start instance\n",
    "lab_4_ec2.instance_manipulation(ec2_client, instance_id, action=\"start\")"
   ],
   "metadata": {
    "collapsed": false,
    "ExecuteTime": {
     "end_time": "2023-05-02T16:44:43.065919500Z",
     "start_time": "2023-05-02T16:44:42.432702100Z"
    }
   }
  },
  {
   "cell_type": "code",
   "execution_count": 8,
   "outputs": [
    {
     "name": "stdout",
     "output_type": "stream",
     "text": [
      "Instance start rebooting successfully!\n"
     ]
    }
   ],
   "source": [
    "# Reboot instance\n",
    "lab_4_ec2.instance_manipulation(ec2_client, instance_id, action=\"reboot\")"
   ],
   "metadata": {
    "collapsed": false,
    "ExecuteTime": {
     "end_time": "2023-05-02T16:45:16.596135400Z",
     "start_time": "2023-05-02T16:45:16.363813700Z"
    }
   }
  },
  {
   "cell_type": "code",
   "execution_count": 9,
   "outputs": [
    {
     "name": "stdout",
     "output_type": "stream",
     "text": [
      "Instance Id\t\t|\ttype\t|\tpublic ip\t|\tstate\n",
      "============================================\n",
      "i-0f420a1888c002ba0\t|\tt2.micro\t|\t3.72.15.14\t|\trunning\n"
     ]
    }
   ],
   "source": [
    "# Get running instances\n",
    "lab_4_ec2.get_instance_info(ec2_client, instance_id)"
   ],
   "metadata": {
    "collapsed": false,
    "ExecuteTime": {
     "end_time": "2023-05-02T16:45:38.027505800Z",
     "start_time": "2023-05-02T16:45:37.928303200Z"
    }
   }
  },
  {
   "cell_type": "code",
   "execution_count": 10,
   "outputs": [
    {
     "name": "stdout",
     "output_type": "stream",
     "text": [
      "Instance info:\n",
      "\t\tid:\ti-0f420a1888c002ba0\n",
      "\t\ttype:\tt2.micro\n",
      "\t\tpublic ip:\t3.72.15.14\n",
      "\t\tstate:\trunning\n"
     ]
    }
   ],
   "source": [
    "# Get base instance info\n",
    "lab_4_ec2.get_instance_info(ec2_client, instance_id, info_type=\"base_info\")"
   ],
   "metadata": {
    "collapsed": false,
    "ExecuteTime": {
     "end_time": "2023-05-02T16:45:50.994735200Z",
     "start_time": "2023-05-02T16:45:50.909632700Z"
    }
   }
  },
  {
   "cell_type": "code",
   "execution_count": 11,
   "outputs": [
    {
     "name": "stdout",
     "output_type": "stream",
     "text": [
      "Instance public ip: 3.72.15.14\n"
     ]
    }
   ],
   "source": [
    "# Get public ip of instance\n",
    "lab_4_ec2.get_instance_info(ec2_client, instance_id, info_type=\"pub_ip\")"
   ],
   "metadata": {
    "collapsed": false,
    "ExecuteTime": {
     "end_time": "2023-05-02T16:45:53.455425700Z",
     "start_time": "2023-05-02T16:45:53.306344800Z"
    }
   }
  },
  {
   "cell_type": "code",
   "execution_count": 12,
   "outputs": [
    {
     "name": "stdout",
     "output_type": "stream",
     "text": [
      "Termination instance with id: i-0f420a1888c002ba0 done successfully!\n"
     ]
    }
   ],
   "source": [
    "# Terminate instance\n",
    "lab_4_ec2.terminate_instance(ec2_client, instance_id)"
   ],
   "metadata": {
    "collapsed": false,
    "ExecuteTime": {
     "end_time": "2023-05-02T16:46:29.373563500Z",
     "start_time": "2023-05-02T16:46:28.717900800Z"
    }
   }
  },
  {
   "cell_type": "markdown",
   "source": [
    "## Apply script for S3 Manipulation"
   ],
   "metadata": {
    "collapsed": false
   }
  },
  {
   "cell_type": "code",
   "execution_count": 2,
   "outputs": [],
   "source": [
    "# Define S3 Client\n",
    "s3_client = utils.connect_to_boto_client(\"s3\")"
   ],
   "metadata": {
    "collapsed": false,
    "ExecuteTime": {
     "end_time": "2023-05-02T16:54:42.753544300Z",
     "start_time": "2023-05-02T16:54:42.397546600Z"
    }
   }
  },
  {
   "cell_type": "code",
   "execution_count": 3,
   "outputs": [],
   "source": [
    "# Define new bucket name\n",
    "bucket_name = \"pysdkbucket\""
   ],
   "metadata": {
    "collapsed": false,
    "ExecuteTime": {
     "end_time": "2023-05-02T16:54:43.111968700Z",
     "start_time": "2023-05-02T16:54:43.100968200Z"
    }
   }
  },
  {
   "cell_type": "code",
   "execution_count": 6,
   "outputs": [
    {
     "name": "stdout",
     "output_type": "stream",
     "text": [
      "Bucket 'pysdkbucket' was create successfully!\n"
     ]
    },
    {
     "data": {
      "text/plain": "True"
     },
     "execution_count": 6,
     "metadata": {},
     "output_type": "execute_result"
    }
   ],
   "source": [
    "# Create bucket\n",
    "lab_4_s3.create_bucket(s3_client, bucket_name)"
   ],
   "metadata": {
    "collapsed": false,
    "ExecuteTime": {
     "end_time": "2023-05-02T16:53:31.685327Z",
     "start_time": "2023-05-02T16:53:30.818717600Z"
    }
   }
  },
  {
   "cell_type": "code",
   "execution_count": 4,
   "outputs": [
    {
     "name": "stdout",
     "output_type": "stream",
     "text": [
      "Existing buckets in your region:\n",
      "\tlab2itbucket\n",
      "\tpysdkbucket\n"
     ]
    }
   ],
   "source": [
    "# Get list of existing buckets\n",
    "lab_4_s3.get_bucket_info(s3_client, bucket_name)"
   ],
   "metadata": {
    "collapsed": false,
    "ExecuteTime": {
     "end_time": "2023-05-02T16:54:46.407243200Z",
     "start_time": "2023-05-02T16:54:46.221996900Z"
    }
   }
  },
  {
   "cell_type": "code",
   "execution_count": 6,
   "outputs": [
    {
     "name": "stdout",
     "output_type": "stream",
     "text": [
      "List of object in bucket:\n",
      "File: lab-21awscli.pdf\n",
      "Storage Class: STANDARD\n",
      "---------------------------\n",
      "File: s3_eur_chart.png\n",
      "Storage Class: STANDARD\n",
      "---------------------------\n",
      "File: s3_eur_currency.csv\n",
      "Storage Class: STANDARD\n",
      "---------------------------\n",
      "File: s3_usd_chart.png\n",
      "Storage Class: STANDARD\n",
      "---------------------------\n",
      "File: s3_usd_currency.csv\n",
      "Storage Class: STANDARD\n",
      "---------------------------\n"
     ]
    }
   ],
   "source": [
    "# Get object in existing bucket\n",
    "lab_4_s3.get_bucket_info(s3_client, \"lab2itbucket\", info_type=\"files\")"
   ],
   "metadata": {
    "collapsed": false,
    "ExecuteTime": {
     "end_time": "2023-05-02T16:57:58.414087500Z",
     "start_time": "2023-05-02T16:57:58.158700600Z"
    }
   }
  },
  {
   "cell_type": "code",
   "execution_count": null,
   "outputs": [],
   "source": [
    "# Upload file to bucket\n",
    "input_folder = \"../input/\"\n",
    "files_to_upload = [\"ai_adam.jpg\", \"python.jpg\", \"triangle.jpg\"]\n",
    "for file_name in files_to_upload:\n",
    "    upload_file = input_folder + file_name\n",
    "    bucket_file_name = f\"{file_name[:2]}_S3_{file_name[2:]}\"\n",
    "    lab_4_s3.bucket_manipulation(s3_client, bucket_name, \"upload\", upload_file, bucket_file_name)"
   ],
   "metadata": {
    "collapsed": false
   }
  },
  {
   "cell_type": "code",
   "execution_count": null,
   "outputs": [],
   "source": [
    "# Download file from bucket\n",
    "download_file = f\"{files_to_upload[1][:2]}_S3_{files_to_upload[1][2:]}\"\n",
    "file_path = \"../output/s3_\" + files_to_upload[1]\n",
    "lab_4_s3.bucket_manipulation(s3_client, bucket_name, \"download\", file_path, download_file)"
   ],
   "metadata": {
    "collapsed": false
   }
  },
  {
   "cell_type": "markdown",
   "source": [
    "### Check exception to S3 Bucket Creation"
   ],
   "metadata": {
    "collapsed": false
   }
  },
  {
   "cell_type": "code",
   "execution_count": 7,
   "outputs": [
    {
     "name": "stdout",
     "output_type": "stream",
     "text": [
      "Creation bucket error: An error occurred (BucketAlreadyOwnedByYou) when calling the CreateBucket operation: Your previous request to create the named bucket succeeded and you already own it.\n"
     ]
    },
    {
     "data": {
      "text/plain": "False"
     },
     "execution_count": 7,
     "metadata": {},
     "output_type": "execute_result"
    }
   ],
   "source": [
    "# Create bucket with same name\n",
    "lab_4_s3.create_bucket(s3_client, bucket_name)"
   ],
   "metadata": {
    "collapsed": false,
    "ExecuteTime": {
     "end_time": "2023-05-02T16:58:24.994344500Z",
     "start_time": "2023-05-02T16:58:24.546491600Z"
    }
   }
  },
  {
   "cell_type": "markdown",
   "source": [
    "### Check exception to S3 File Download"
   ],
   "metadata": {
    "collapsed": false
   }
  },
  {
   "cell_type": "code",
   "execution_count": 8,
   "outputs": [
    {
     "name": "stdout",
     "output_type": "stream",
     "text": [
      "Download file error: An error occurred (404) when calling the HeadObject operation: Not Found\n"
     ]
    }
   ],
   "source": [
    "# Download unexisting file from bucket\n",
    "lab_4_s3.bucket_manipulation(s3_client, bucket_name, \"download\", \"../output/s3_file.txt\", \"s3_bucket_file.txt\")"
   ],
   "metadata": {
    "collapsed": false,
    "ExecuteTime": {
     "end_time": "2023-05-02T16:58:53.438838200Z",
     "start_time": "2023-05-02T16:58:53.220455200Z"
    }
   }
  },
  {
   "cell_type": "markdown",
   "source": [
    "### Check exception to S3 File Upload"
   ],
   "metadata": {
    "collapsed": false
   }
  },
  {
   "cell_type": "code",
   "execution_count": 9,
   "outputs": [
    {
     "ename": "FileNotFoundError",
     "evalue": "[WinError 2] The system cannot find the file specified: '../input/cython.py'",
     "output_type": "error",
     "traceback": [
      "\u001B[1;31m---------------------------------------------------------------------------\u001B[0m",
      "\u001B[1;31mFileNotFoundError\u001B[0m                         Traceback (most recent call last)",
      "Cell \u001B[1;32mIn[9], line 2\u001B[0m\n\u001B[0;32m      1\u001B[0m \u001B[38;5;66;03m# Upload unexisting file to bucket\u001B[39;00m\n\u001B[1;32m----> 2\u001B[0m \u001B[43mlab_4_s3\u001B[49m\u001B[38;5;241;43m.\u001B[39;49m\u001B[43mbucket_manipulation\u001B[49m\u001B[43m(\u001B[49m\u001B[43ms3_client\u001B[49m\u001B[43m,\u001B[49m\u001B[43m \u001B[49m\u001B[43mbucket_name\u001B[49m\u001B[43m,\u001B[49m\u001B[43m \u001B[49m\u001B[38;5;124;43m\"\u001B[39;49m\u001B[38;5;124;43mupload\u001B[39;49m\u001B[38;5;124;43m\"\u001B[39;49m\u001B[43m,\u001B[49m\u001B[43m \u001B[49m\u001B[38;5;124;43m\"\u001B[39;49m\u001B[38;5;124;43m../input/cython.py\u001B[39;49m\u001B[38;5;124;43m\"\u001B[39;49m\u001B[43m,\u001B[49m\u001B[43m \u001B[49m\u001B[38;5;124;43m\"\u001B[39;49m\u001B[38;5;124;43ms3_cython.py\u001B[39;49m\u001B[38;5;124;43m\"\u001B[39;49m\u001B[43m)\u001B[49m\n",
      "File \u001B[1;32mD:\\.main\\code\\kpi\\itahd_labs\\src\\lab_4_s3.py:72\u001B[0m, in \u001B[0;36mbucket_manipulation\u001B[1;34m(s3_client, bucket_name, action, file_path, bucket_file)\u001B[0m\n\u001B[0;32m     70\u001B[0m \u001B[38;5;250m\u001B[39m\u001B[38;5;124;03m\"\"\"\"\"\"\u001B[39;00m\n\u001B[0;32m     71\u001B[0m \u001B[38;5;28;01mmatch\u001B[39;00m action:\n\u001B[1;32m---> 72\u001B[0m     \u001B[38;5;28;01mcase\u001B[39;00m \u001B[38;5;124m\"\u001B[39m\u001B[38;5;124mupload\u001B[39m\u001B[38;5;124m\"\u001B[39m: \u001B[43mupload_file\u001B[49m\u001B[43m(\u001B[49m\u001B[43ms3_client\u001B[49m\u001B[43m,\u001B[49m\u001B[43m \u001B[49m\u001B[43mbucket_name\u001B[49m\u001B[43m,\u001B[49m\u001B[43m \u001B[49m\u001B[43mfile_path\u001B[49m\u001B[43m,\u001B[49m\u001B[43m \u001B[49m\u001B[43mbucket_file\u001B[49m\u001B[43m)\u001B[49m\n\u001B[0;32m     73\u001B[0m     \u001B[38;5;28;01mcase\u001B[39;00m \u001B[38;5;124m\"\u001B[39m\u001B[38;5;124mdownload\u001B[39m\u001B[38;5;124m\"\u001B[39m: download_file(s3_client, bucket_name, bucket_file, file_path)\n\u001B[0;32m     74\u001B[0m     \u001B[38;5;28;01mcase\u001B[39;00m\u001B[38;5;250m \u001B[39m\u001B[38;5;28;01m_\u001B[39;00m: \u001B[38;5;28mprint\u001B[39m(\u001B[38;5;124m\"\u001B[39m\u001B[38;5;124mPlease choose available actions [upload|download].\u001B[39m\u001B[38;5;124m\"\u001B[39m)\n",
      "File \u001B[1;32mD:\\.main\\code\\kpi\\itahd_labs\\src\\lab_4_s3.py:40\u001B[0m, in \u001B[0;36mupload_file\u001B[1;34m(s3_client, bucket_name, file_path, bucket_file_name)\u001B[0m\n\u001B[0;32m     38\u001B[0m \u001B[38;5;66;03m# Upload the file\u001B[39;00m\n\u001B[0;32m     39\u001B[0m \u001B[38;5;28;01mtry\u001B[39;00m:\n\u001B[1;32m---> 40\u001B[0m     \u001B[43ms3_client\u001B[49m\u001B[38;5;241;43m.\u001B[39;49m\u001B[43mupload_file\u001B[49m\u001B[43m(\u001B[49m\u001B[43mfile_path\u001B[49m\u001B[43m,\u001B[49m\u001B[43m \u001B[49m\u001B[43mbucket_name\u001B[49m\u001B[43m,\u001B[49m\u001B[43m \u001B[49m\u001B[43mbucket_file_name\u001B[49m\u001B[43m)\u001B[49m\n\u001B[0;32m     41\u001B[0m \u001B[38;5;28;01mexcept\u001B[39;00m ClientError \u001B[38;5;28;01mas\u001B[39;00m e:\n\u001B[0;32m     42\u001B[0m     \u001B[38;5;28mprint\u001B[39m(\u001B[38;5;124mf\u001B[39m\u001B[38;5;124m\"\u001B[39m\u001B[38;5;124mUpload file error: \u001B[39m\u001B[38;5;132;01m{\u001B[39;00me\u001B[38;5;132;01m}\u001B[39;00m\u001B[38;5;124m\"\u001B[39m)\n",
      "File \u001B[1;32mD:\\.main\\code\\kpi\\itahd_labs\\venv\\lib\\site-packages\\boto3\\s3\\inject.py:143\u001B[0m, in \u001B[0;36mupload_file\u001B[1;34m(self, Filename, Bucket, Key, ExtraArgs, Callback, Config)\u001B[0m\n\u001B[0;32m    108\u001B[0m \u001B[38;5;250m\u001B[39m\u001B[38;5;124;03m\"\"\"Upload a file to an S3 object.\u001B[39;00m\n\u001B[0;32m    109\u001B[0m \n\u001B[0;32m    110\u001B[0m \u001B[38;5;124;03mUsage::\u001B[39;00m\n\u001B[1;32m   (...)\u001B[0m\n\u001B[0;32m    140\u001B[0m \u001B[38;5;124;03m    transfer.\u001B[39;00m\n\u001B[0;32m    141\u001B[0m \u001B[38;5;124;03m\"\"\"\u001B[39;00m\n\u001B[0;32m    142\u001B[0m \u001B[38;5;28;01mwith\u001B[39;00m S3Transfer(\u001B[38;5;28mself\u001B[39m, Config) \u001B[38;5;28;01mas\u001B[39;00m transfer:\n\u001B[1;32m--> 143\u001B[0m     \u001B[38;5;28;01mreturn\u001B[39;00m \u001B[43mtransfer\u001B[49m\u001B[38;5;241;43m.\u001B[39;49m\u001B[43mupload_file\u001B[49m\u001B[43m(\u001B[49m\n\u001B[0;32m    144\u001B[0m \u001B[43m        \u001B[49m\u001B[43mfilename\u001B[49m\u001B[38;5;241;43m=\u001B[39;49m\u001B[43mFilename\u001B[49m\u001B[43m,\u001B[49m\n\u001B[0;32m    145\u001B[0m \u001B[43m        \u001B[49m\u001B[43mbucket\u001B[49m\u001B[38;5;241;43m=\u001B[39;49m\u001B[43mBucket\u001B[49m\u001B[43m,\u001B[49m\n\u001B[0;32m    146\u001B[0m \u001B[43m        \u001B[49m\u001B[43mkey\u001B[49m\u001B[38;5;241;43m=\u001B[39;49m\u001B[43mKey\u001B[49m\u001B[43m,\u001B[49m\n\u001B[0;32m    147\u001B[0m \u001B[43m        \u001B[49m\u001B[43mextra_args\u001B[49m\u001B[38;5;241;43m=\u001B[39;49m\u001B[43mExtraArgs\u001B[49m\u001B[43m,\u001B[49m\n\u001B[0;32m    148\u001B[0m \u001B[43m        \u001B[49m\u001B[43mcallback\u001B[49m\u001B[38;5;241;43m=\u001B[39;49m\u001B[43mCallback\u001B[49m\u001B[43m,\u001B[49m\n\u001B[0;32m    149\u001B[0m \u001B[43m    \u001B[49m\u001B[43m)\u001B[49m\n",
      "File \u001B[1;32mD:\\.main\\code\\kpi\\itahd_labs\\venv\\lib\\site-packages\\boto3\\s3\\transfer.py:292\u001B[0m, in \u001B[0;36mS3Transfer.upload_file\u001B[1;34m(self, filename, bucket, key, callback, extra_args)\u001B[0m\n\u001B[0;32m    288\u001B[0m future \u001B[38;5;241m=\u001B[39m \u001B[38;5;28mself\u001B[39m\u001B[38;5;241m.\u001B[39m_manager\u001B[38;5;241m.\u001B[39mupload(\n\u001B[0;32m    289\u001B[0m     filename, bucket, key, extra_args, subscribers\n\u001B[0;32m    290\u001B[0m )\n\u001B[0;32m    291\u001B[0m \u001B[38;5;28;01mtry\u001B[39;00m:\n\u001B[1;32m--> 292\u001B[0m     \u001B[43mfuture\u001B[49m\u001B[38;5;241;43m.\u001B[39;49m\u001B[43mresult\u001B[49m\u001B[43m(\u001B[49m\u001B[43m)\u001B[49m\n\u001B[0;32m    293\u001B[0m \u001B[38;5;66;03m# If a client error was raised, add the backwards compatibility layer\u001B[39;00m\n\u001B[0;32m    294\u001B[0m \u001B[38;5;66;03m# that raises a S3UploadFailedError. These specific errors were only\u001B[39;00m\n\u001B[0;32m    295\u001B[0m \u001B[38;5;66;03m# ever thrown for upload_parts but now can be thrown for any related\u001B[39;00m\n\u001B[0;32m    296\u001B[0m \u001B[38;5;66;03m# client error.\u001B[39;00m\n\u001B[0;32m    297\u001B[0m \u001B[38;5;28;01mexcept\u001B[39;00m ClientError \u001B[38;5;28;01mas\u001B[39;00m e:\n",
      "File \u001B[1;32mD:\\.main\\code\\kpi\\itahd_labs\\venv\\lib\\site-packages\\s3transfer\\futures.py:103\u001B[0m, in \u001B[0;36mTransferFuture.result\u001B[1;34m(self)\u001B[0m\n\u001B[0;32m     98\u001B[0m \u001B[38;5;28;01mdef\u001B[39;00m \u001B[38;5;21mresult\u001B[39m(\u001B[38;5;28mself\u001B[39m):\n\u001B[0;32m     99\u001B[0m     \u001B[38;5;28;01mtry\u001B[39;00m:\n\u001B[0;32m    100\u001B[0m         \u001B[38;5;66;03m# Usually the result() method blocks until the transfer is done,\u001B[39;00m\n\u001B[0;32m    101\u001B[0m         \u001B[38;5;66;03m# however if a KeyboardInterrupt is raised we want want to exit\u001B[39;00m\n\u001B[0;32m    102\u001B[0m         \u001B[38;5;66;03m# out of this and propagate the exception.\u001B[39;00m\n\u001B[1;32m--> 103\u001B[0m         \u001B[38;5;28;01mreturn\u001B[39;00m \u001B[38;5;28;43mself\u001B[39;49m\u001B[38;5;241;43m.\u001B[39;49m\u001B[43m_coordinator\u001B[49m\u001B[38;5;241;43m.\u001B[39;49m\u001B[43mresult\u001B[49m\u001B[43m(\u001B[49m\u001B[43m)\u001B[49m\n\u001B[0;32m    104\u001B[0m     \u001B[38;5;28;01mexcept\u001B[39;00m \u001B[38;5;167;01mKeyboardInterrupt\u001B[39;00m \u001B[38;5;28;01mas\u001B[39;00m e:\n\u001B[0;32m    105\u001B[0m         \u001B[38;5;28mself\u001B[39m\u001B[38;5;241m.\u001B[39mcancel()\n",
      "File \u001B[1;32mD:\\.main\\code\\kpi\\itahd_labs\\venv\\lib\\site-packages\\s3transfer\\futures.py:266\u001B[0m, in \u001B[0;36mTransferCoordinator.result\u001B[1;34m(self)\u001B[0m\n\u001B[0;32m    263\u001B[0m \u001B[38;5;66;03m# Once done waiting, raise an exception if present or return the\u001B[39;00m\n\u001B[0;32m    264\u001B[0m \u001B[38;5;66;03m# final result.\u001B[39;00m\n\u001B[0;32m    265\u001B[0m \u001B[38;5;28;01mif\u001B[39;00m \u001B[38;5;28mself\u001B[39m\u001B[38;5;241m.\u001B[39m_exception:\n\u001B[1;32m--> 266\u001B[0m     \u001B[38;5;28;01mraise\u001B[39;00m \u001B[38;5;28mself\u001B[39m\u001B[38;5;241m.\u001B[39m_exception\n\u001B[0;32m    267\u001B[0m \u001B[38;5;28;01mreturn\u001B[39;00m \u001B[38;5;28mself\u001B[39m\u001B[38;5;241m.\u001B[39m_result\n",
      "File \u001B[1;32mD:\\.main\\code\\kpi\\itahd_labs\\venv\\lib\\site-packages\\s3transfer\\tasks.py:269\u001B[0m, in \u001B[0;36mSubmissionTask._main\u001B[1;34m(self, transfer_future, **kwargs)\u001B[0m\n\u001B[0;32m    265\u001B[0m     \u001B[38;5;28mself\u001B[39m\u001B[38;5;241m.\u001B[39m_transfer_coordinator\u001B[38;5;241m.\u001B[39mset_status_to_running()\n\u001B[0;32m    267\u001B[0m     \u001B[38;5;66;03m# Call the submit method to start submitting tasks to execute the\u001B[39;00m\n\u001B[0;32m    268\u001B[0m     \u001B[38;5;66;03m# transfer.\u001B[39;00m\n\u001B[1;32m--> 269\u001B[0m     \u001B[38;5;28mself\u001B[39m\u001B[38;5;241m.\u001B[39m_submit(transfer_future\u001B[38;5;241m=\u001B[39mtransfer_future, \u001B[38;5;241m*\u001B[39m\u001B[38;5;241m*\u001B[39mkwargs)\n\u001B[0;32m    270\u001B[0m \u001B[38;5;28;01mexcept\u001B[39;00m \u001B[38;5;167;01mBaseException\u001B[39;00m \u001B[38;5;28;01mas\u001B[39;00m e:\n\u001B[0;32m    271\u001B[0m     \u001B[38;5;66;03m# If there was an exception raised during the submission of task\u001B[39;00m\n\u001B[0;32m    272\u001B[0m     \u001B[38;5;66;03m# there is a chance that the final task that signals if a transfer\u001B[39;00m\n\u001B[1;32m   (...)\u001B[0m\n\u001B[0;32m    281\u001B[0m \n\u001B[0;32m    282\u001B[0m     \u001B[38;5;66;03m# Set the exception, that caused the process to fail.\u001B[39;00m\n\u001B[0;32m    283\u001B[0m     \u001B[38;5;28mself\u001B[39m\u001B[38;5;241m.\u001B[39m_log_and_set_exception(e)\n",
      "File \u001B[1;32mD:\\.main\\code\\kpi\\itahd_labs\\venv\\lib\\site-packages\\s3transfer\\upload.py:585\u001B[0m, in \u001B[0;36mUploadSubmissionTask._submit\u001B[1;34m(self, client, config, osutil, request_executor, transfer_future, bandwidth_limiter)\u001B[0m\n\u001B[0;32m    583\u001B[0m \u001B[38;5;66;03m# Determine the size if it was not provided\u001B[39;00m\n\u001B[0;32m    584\u001B[0m \u001B[38;5;28;01mif\u001B[39;00m transfer_future\u001B[38;5;241m.\u001B[39mmeta\u001B[38;5;241m.\u001B[39msize \u001B[38;5;129;01mis\u001B[39;00m \u001B[38;5;28;01mNone\u001B[39;00m:\n\u001B[1;32m--> 585\u001B[0m     \u001B[43mupload_input_manager\u001B[49m\u001B[38;5;241;43m.\u001B[39;49m\u001B[43mprovide_transfer_size\u001B[49m\u001B[43m(\u001B[49m\u001B[43mtransfer_future\u001B[49m\u001B[43m)\u001B[49m\n\u001B[0;32m    587\u001B[0m \u001B[38;5;66;03m# Do a multipart upload if needed, otherwise do a regular put object.\u001B[39;00m\n\u001B[0;32m    588\u001B[0m \u001B[38;5;28;01mif\u001B[39;00m \u001B[38;5;129;01mnot\u001B[39;00m upload_input_manager\u001B[38;5;241m.\u001B[39mrequires_multipart_upload(\n\u001B[0;32m    589\u001B[0m     transfer_future, config\n\u001B[0;32m    590\u001B[0m ):\n",
      "File \u001B[1;32mD:\\.main\\code\\kpi\\itahd_labs\\venv\\lib\\site-packages\\s3transfer\\upload.py:244\u001B[0m, in \u001B[0;36mUploadFilenameInputManager.provide_transfer_size\u001B[1;34m(self, transfer_future)\u001B[0m\n\u001B[0;32m    242\u001B[0m \u001B[38;5;28;01mdef\u001B[39;00m \u001B[38;5;21mprovide_transfer_size\u001B[39m(\u001B[38;5;28mself\u001B[39m, transfer_future):\n\u001B[0;32m    243\u001B[0m     transfer_future\u001B[38;5;241m.\u001B[39mmeta\u001B[38;5;241m.\u001B[39mprovide_transfer_size(\n\u001B[1;32m--> 244\u001B[0m         \u001B[38;5;28;43mself\u001B[39;49m\u001B[38;5;241;43m.\u001B[39;49m\u001B[43m_osutil\u001B[49m\u001B[38;5;241;43m.\u001B[39;49m\u001B[43mget_file_size\u001B[49m\u001B[43m(\u001B[49m\u001B[43mtransfer_future\u001B[49m\u001B[38;5;241;43m.\u001B[39;49m\u001B[43mmeta\u001B[49m\u001B[38;5;241;43m.\u001B[39;49m\u001B[43mcall_args\u001B[49m\u001B[38;5;241;43m.\u001B[39;49m\u001B[43mfileobj\u001B[49m\u001B[43m)\u001B[49m\n\u001B[0;32m    245\u001B[0m     )\n",
      "File \u001B[1;32mD:\\.main\\code\\kpi\\itahd_labs\\venv\\lib\\site-packages\\s3transfer\\utils.py:247\u001B[0m, in \u001B[0;36mOSUtils.get_file_size\u001B[1;34m(self, filename)\u001B[0m\n\u001B[0;32m    246\u001B[0m \u001B[38;5;28;01mdef\u001B[39;00m \u001B[38;5;21mget_file_size\u001B[39m(\u001B[38;5;28mself\u001B[39m, filename):\n\u001B[1;32m--> 247\u001B[0m     \u001B[38;5;28;01mreturn\u001B[39;00m \u001B[43mos\u001B[49m\u001B[38;5;241;43m.\u001B[39;49m\u001B[43mpath\u001B[49m\u001B[38;5;241;43m.\u001B[39;49m\u001B[43mgetsize\u001B[49m\u001B[43m(\u001B[49m\u001B[43mfilename\u001B[49m\u001B[43m)\u001B[49m\n",
      "File \u001B[1;32m~\\AppData\\Local\\Programs\\Python\\Python310\\lib\\genericpath.py:50\u001B[0m, in \u001B[0;36mgetsize\u001B[1;34m(filename)\u001B[0m\n\u001B[0;32m     48\u001B[0m \u001B[38;5;28;01mdef\u001B[39;00m \u001B[38;5;21mgetsize\u001B[39m(filename):\n\u001B[0;32m     49\u001B[0m \u001B[38;5;250m    \u001B[39m\u001B[38;5;124;03m\"\"\"Return the size of a file, reported by os.stat().\"\"\"\u001B[39;00m\n\u001B[1;32m---> 50\u001B[0m     \u001B[38;5;28;01mreturn\u001B[39;00m \u001B[43mos\u001B[49m\u001B[38;5;241;43m.\u001B[39;49m\u001B[43mstat\u001B[49m\u001B[43m(\u001B[49m\u001B[43mfilename\u001B[49m\u001B[43m)\u001B[49m\u001B[38;5;241m.\u001B[39mst_size\n",
      "\u001B[1;31mFileNotFoundError\u001B[0m: [WinError 2] The system cannot find the file specified: '../input/cython.py'"
     ]
    }
   ],
   "source": [
    "# Upload unexisting file to bucket\n",
    "lab_4_s3.bucket_manipulation(s3_client, bucket_name, \"upload\", \"../input/cython.py\", \"s3_cython.py\")"
   ],
   "metadata": {
    "collapsed": false,
    "ExecuteTime": {
     "end_time": "2023-05-02T16:59:00.534160300Z",
     "start_time": "2023-05-02T16:59:00.266072300Z"
    }
   }
  },
  {
   "cell_type": "markdown",
   "source": [
    "## Deletion bucket"
   ],
   "metadata": {
    "collapsed": false
   }
  },
  {
   "cell_type": "code",
   "execution_count": 10,
   "outputs": [
    {
     "name": "stdout",
     "output_type": "stream",
     "text": [
      "Bucket 'pysdkbucket' was delete successfully!\n"
     ]
    },
    {
     "data": {
      "text/plain": "True"
     },
     "execution_count": 10,
     "metadata": {},
     "output_type": "execute_result"
    }
   ],
   "source": [
    "lab_4_s3.delete_bucket(s3_client, bucket_name)"
   ],
   "metadata": {
    "collapsed": false,
    "ExecuteTime": {
     "end_time": "2023-05-02T17:00:15.801350800Z",
     "start_time": "2023-05-02T17:00:15.338555500Z"
    }
   }
  },
  {
   "cell_type": "code",
   "execution_count": null,
   "outputs": [],
   "source": [
    "# Delete keypair\n",
    "lab_4_key_pairs.delete_pairs()"
   ],
   "metadata": {
    "collapsed": false
   }
  }
 ],
 "metadata": {
  "kernelspec": {
   "display_name": "Python 3",
   "language": "python",
   "name": "python3"
  },
  "language_info": {
   "codemirror_mode": {
    "name": "ipython",
    "version": 2
   },
   "file_extension": ".py",
   "mimetype": "text/x-python",
   "name": "python",
   "nbconvert_exporter": "python",
   "pygments_lexer": "ipython2",
   "version": "2.7.6"
  }
 },
 "nbformat": 4,
 "nbformat_minor": 0
}
