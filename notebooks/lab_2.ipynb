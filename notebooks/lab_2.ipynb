{
 "cells": [
  {
   "cell_type": "code",
   "execution_count": 1,
   "metadata": {
    "collapsed": true,
    "ExecuteTime": {
     "start_time": "2023-04-01T10:22:35.915911Z",
     "end_time": "2023-04-01T10:22:37.466350Z"
    }
   },
   "outputs": [],
   "source": [
    "# Importing libraries for interaction with AWS\n",
    "import boto3\n",
    "from botocore.exceptions import ClientError\n",
    "# Importing library for request data from web\n",
    "from requests import get\n",
    "# Importing library for converting json data to csv data\n",
    "import pandas as pd\n",
    "# Importing library for visualizing data\n",
    "import matplotlib.pyplot as plt\n",
    "# Import other libraries\n",
    "from pathlib import Path\n",
    "import logging\n",
    "import os"
   ]
  },
  {
   "cell_type": "markdown",
   "source": [
    "## Getting data from NBU API in json format"
   ],
   "metadata": {
    "collapsed": false
   }
  },
  {
   "cell_type": "code",
   "execution_count": 38,
   "outputs": [],
   "source": [
    "# Get request from NBU API\n",
    "usd_url = \"https://bank.gov.ua/NBU_Exchange/exchange_site?start=20210101&end=20211231&valcode=usd&sort=exchangedate&order=asc&json\"\n",
    "eur_url = \"https://bank.gov.ua/NBU_Exchange/exchange_site?start=20210101&end=20211231&valcode=eur&sort=exchangedate&order=asc&json\""
   ],
   "metadata": {
    "collapsed": false
   }
  },
  {
   "cell_type": "code",
   "execution_count": 45,
   "outputs": [],
   "source": [
    "# Get json data from the request about US Dollar\n",
    "r = get(usd_url)\n",
    "usd_json_df = pd.read_json(r.text)"
   ],
   "metadata": {
    "collapsed": false
   }
  },
  {
   "cell_type": "code",
   "execution_count": 46,
   "outputs": [],
   "source": [
    "# Get json data from the request about Euro\n",
    "r = get(eur_url)\n",
    "eur_json_df = pd.read_json(r.text)"
   ],
   "metadata": {
    "collapsed": false
   }
  },
  {
   "cell_type": "code",
   "execution_count": 47,
   "outputs": [
    {
     "data": {
      "text/plain": "  exchangedate  r030   cc   txt enname     rate  units  rate_per_unit  group  \\\n0   01.01.2021   978  EUR  Євро   Euro  34.7396      1        34.7396      1   \n1   02.01.2021   978  EUR  Євро   Euro  34.7396      1        34.7396      1   \n2   03.01.2021   978  EUR  Євро   Euro  34.7396      1        34.7396      1   \n3   04.01.2021   978  EUR  Євро   Euro  34.7396      1        34.7396      1   \n4   05.01.2021   978  EUR  Євро   Euro  34.9389      1        34.9389      1   \n\n     calcdate  \n0  30.12.2020  \n1  30.12.2020  \n2  30.12.2020  \n3  30.12.2020  \n4  04.01.2021  ",
      "text/html": "<div>\n<style scoped>\n    .dataframe tbody tr th:only-of-type {\n        vertical-align: middle;\n    }\n\n    .dataframe tbody tr th {\n        vertical-align: top;\n    }\n\n    .dataframe thead th {\n        text-align: right;\n    }\n</style>\n<table border=\"1\" class=\"dataframe\">\n  <thead>\n    <tr style=\"text-align: right;\">\n      <th></th>\n      <th>exchangedate</th>\n      <th>r030</th>\n      <th>cc</th>\n      <th>txt</th>\n      <th>enname</th>\n      <th>rate</th>\n      <th>units</th>\n      <th>rate_per_unit</th>\n      <th>group</th>\n      <th>calcdate</th>\n    </tr>\n  </thead>\n  <tbody>\n    <tr>\n      <th>0</th>\n      <td>01.01.2021</td>\n      <td>978</td>\n      <td>EUR</td>\n      <td>Євро</td>\n      <td>Euro</td>\n      <td>34.7396</td>\n      <td>1</td>\n      <td>34.7396</td>\n      <td>1</td>\n      <td>30.12.2020</td>\n    </tr>\n    <tr>\n      <th>1</th>\n      <td>02.01.2021</td>\n      <td>978</td>\n      <td>EUR</td>\n      <td>Євро</td>\n      <td>Euro</td>\n      <td>34.7396</td>\n      <td>1</td>\n      <td>34.7396</td>\n      <td>1</td>\n      <td>30.12.2020</td>\n    </tr>\n    <tr>\n      <th>2</th>\n      <td>03.01.2021</td>\n      <td>978</td>\n      <td>EUR</td>\n      <td>Євро</td>\n      <td>Euro</td>\n      <td>34.7396</td>\n      <td>1</td>\n      <td>34.7396</td>\n      <td>1</td>\n      <td>30.12.2020</td>\n    </tr>\n    <tr>\n      <th>3</th>\n      <td>04.01.2021</td>\n      <td>978</td>\n      <td>EUR</td>\n      <td>Євро</td>\n      <td>Euro</td>\n      <td>34.7396</td>\n      <td>1</td>\n      <td>34.7396</td>\n      <td>1</td>\n      <td>30.12.2020</td>\n    </tr>\n    <tr>\n      <th>4</th>\n      <td>05.01.2021</td>\n      <td>978</td>\n      <td>EUR</td>\n      <td>Євро</td>\n      <td>Euro</td>\n      <td>34.9389</td>\n      <td>1</td>\n      <td>34.9389</td>\n      <td>1</td>\n      <td>04.01.2021</td>\n    </tr>\n  </tbody>\n</table>\n</div>"
     },
     "execution_count": 47,
     "metadata": {},
     "output_type": "execute_result"
    }
   ],
   "source": [
    "usd_json_df.head()"
   ],
   "metadata": {
    "collapsed": false
   }
  },
  {
   "cell_type": "code",
   "execution_count": 49,
   "outputs": [],
   "source": [
    "# Drop unnecessary column\n",
    "usd_json_df = usd_json_df.drop(columns=[\"r030\", \"cc\", \"txt\", \"group\"])\n",
    "eur_json_df = eur_json_df.drop(columns=[\"r030\", \"cc\", \"txt\", \"group\"])"
   ],
   "metadata": {
    "collapsed": false
   }
  },
  {
   "cell_type": "code",
   "execution_count": 55,
   "outputs": [
    {
     "data": {
      "text/plain": "         date   currency     rate  units  rate_per_unit    calcdate\n0  01.01.2021  US Dollar  28.2746      1        28.2746  30.12.2020\n1  02.01.2021  US Dollar  28.2746      1        28.2746  30.12.2020\n2  03.01.2021  US Dollar  28.2746      1        28.2746  30.12.2020\n3  04.01.2021  US Dollar  28.2746      1        28.2746  30.12.2020\n4  05.01.2021  US Dollar  28.4310      1        28.4310  04.01.2021",
      "text/html": "<div>\n<style scoped>\n    .dataframe tbody tr th:only-of-type {\n        vertical-align: middle;\n    }\n\n    .dataframe tbody tr th {\n        vertical-align: top;\n    }\n\n    .dataframe thead th {\n        text-align: right;\n    }\n</style>\n<table border=\"1\" class=\"dataframe\">\n  <thead>\n    <tr style=\"text-align: right;\">\n      <th></th>\n      <th>date</th>\n      <th>currency</th>\n      <th>rate</th>\n      <th>units</th>\n      <th>rate_per_unit</th>\n      <th>calcdate</th>\n    </tr>\n  </thead>\n  <tbody>\n    <tr>\n      <th>0</th>\n      <td>01.01.2021</td>\n      <td>US Dollar</td>\n      <td>28.2746</td>\n      <td>1</td>\n      <td>28.2746</td>\n      <td>30.12.2020</td>\n    </tr>\n    <tr>\n      <th>1</th>\n      <td>02.01.2021</td>\n      <td>US Dollar</td>\n      <td>28.2746</td>\n      <td>1</td>\n      <td>28.2746</td>\n      <td>30.12.2020</td>\n    </tr>\n    <tr>\n      <th>2</th>\n      <td>03.01.2021</td>\n      <td>US Dollar</td>\n      <td>28.2746</td>\n      <td>1</td>\n      <td>28.2746</td>\n      <td>30.12.2020</td>\n    </tr>\n    <tr>\n      <th>3</th>\n      <td>04.01.2021</td>\n      <td>US Dollar</td>\n      <td>28.2746</td>\n      <td>1</td>\n      <td>28.2746</td>\n      <td>30.12.2020</td>\n    </tr>\n    <tr>\n      <th>4</th>\n      <td>05.01.2021</td>\n      <td>US Dollar</td>\n      <td>28.4310</td>\n      <td>1</td>\n      <td>28.4310</td>\n      <td>04.01.2021</td>\n    </tr>\n  </tbody>\n</table>\n</div>"
     },
     "execution_count": 55,
     "metadata": {},
     "output_type": "execute_result"
    }
   ],
   "source": [
    "usd_json_df.head()"
   ],
   "metadata": {
    "collapsed": false
   }
  },
  {
   "cell_type": "code",
   "execution_count": 53,
   "outputs": [],
   "source": [
    "# Change name of some columns\n",
    "usd_json_df = usd_json_df.rename(columns={\"exchangedate\": \"date\", \"enname\": \"currency\"})\n",
    "eur_json_df = eur_json_df.rename(columns={\"exchangedate\": \"date\", \"enname\": \"currency\"})"
   ],
   "metadata": {
    "collapsed": false
   }
  },
  {
   "cell_type": "code",
   "execution_count": 54,
   "outputs": [
    {
     "data": {
      "text/plain": "         date   currency     rate  units  rate_per_unit    calcdate\n0  01.01.2021  US Dollar  28.2746      1        28.2746  30.12.2020\n1  02.01.2021  US Dollar  28.2746      1        28.2746  30.12.2020\n2  03.01.2021  US Dollar  28.2746      1        28.2746  30.12.2020\n3  04.01.2021  US Dollar  28.2746      1        28.2746  30.12.2020\n4  05.01.2021  US Dollar  28.4310      1        28.4310  04.01.2021",
      "text/html": "<div>\n<style scoped>\n    .dataframe tbody tr th:only-of-type {\n        vertical-align: middle;\n    }\n\n    .dataframe tbody tr th {\n        vertical-align: top;\n    }\n\n    .dataframe thead th {\n        text-align: right;\n    }\n</style>\n<table border=\"1\" class=\"dataframe\">\n  <thead>\n    <tr style=\"text-align: right;\">\n      <th></th>\n      <th>date</th>\n      <th>currency</th>\n      <th>rate</th>\n      <th>units</th>\n      <th>rate_per_unit</th>\n      <th>calcdate</th>\n    </tr>\n  </thead>\n  <tbody>\n    <tr>\n      <th>0</th>\n      <td>01.01.2021</td>\n      <td>US Dollar</td>\n      <td>28.2746</td>\n      <td>1</td>\n      <td>28.2746</td>\n      <td>30.12.2020</td>\n    </tr>\n    <tr>\n      <th>1</th>\n      <td>02.01.2021</td>\n      <td>US Dollar</td>\n      <td>28.2746</td>\n      <td>1</td>\n      <td>28.2746</td>\n      <td>30.12.2020</td>\n    </tr>\n    <tr>\n      <th>2</th>\n      <td>03.01.2021</td>\n      <td>US Dollar</td>\n      <td>28.2746</td>\n      <td>1</td>\n      <td>28.2746</td>\n      <td>30.12.2020</td>\n    </tr>\n    <tr>\n      <th>3</th>\n      <td>04.01.2021</td>\n      <td>US Dollar</td>\n      <td>28.2746</td>\n      <td>1</td>\n      <td>28.2746</td>\n      <td>30.12.2020</td>\n    </tr>\n    <tr>\n      <th>4</th>\n      <td>05.01.2021</td>\n      <td>US Dollar</td>\n      <td>28.4310</td>\n      <td>1</td>\n      <td>28.4310</td>\n      <td>04.01.2021</td>\n    </tr>\n  </tbody>\n</table>\n</div>"
     },
     "execution_count": 54,
     "metadata": {},
     "output_type": "execute_result"
    }
   ],
   "source": [
    "usd_json_df.head()"
   ],
   "metadata": {
    "collapsed": false
   }
  },
  {
   "cell_type": "markdown",
   "source": [
    "## Convert json format to csv file with pandas"
   ],
   "metadata": {
    "collapsed": false
   }
  },
  {
   "cell_type": "code",
   "execution_count": 38,
   "outputs": [],
   "source": [
    "# Making Path for output csv files\n",
    "output_path = Path(\"output/\")\n",
    "usd_path = Path(f\"{output_path}/usd_currency.csv\")\n",
    "eur_path = Path(f\"{output_path}/eur_currency.csv\")"
   ],
   "metadata": {
    "collapsed": false,
    "ExecuteTime": {
     "start_time": "2023-04-01T10:51:32.547093Z",
     "end_time": "2023-04-01T10:51:32.588146Z"
    }
   }
  },
  {
   "cell_type": "code",
   "execution_count": 74,
   "outputs": [],
   "source": [
    "# Form directory if not exist\n",
    "output_path.mkdir(exist_ok=True)"
   ],
   "metadata": {
    "collapsed": false
   }
  },
  {
   "cell_type": "code",
   "execution_count": 75,
   "outputs": [],
   "source": [
    "# Save USD data to csv file\n",
    "usd_json_df.to_csv(usd_path)"
   ],
   "metadata": {
    "collapsed": false
   }
  },
  {
   "cell_type": "code",
   "execution_count": 76,
   "outputs": [],
   "source": [
    "# Save EUR data to csv file\n",
    "eur_json_df.to_csv(eur_path)"
   ],
   "metadata": {
    "collapsed": false
   }
  },
  {
   "cell_type": "markdown",
   "source": [
    "## Prepare function for s3 bucket manipulation"
   ],
   "metadata": {
    "collapsed": false
   }
  },
  {
   "cell_type": "code",
   "execution_count": 3,
   "outputs": [],
   "source": [
    "def s3_file_actions(s3_client, bucket_name, action=\"upload\", file_path=None, bucket_file_name=None):\n",
    "    \"\"\"\n",
    "    Upload a file to on S3 bucket;\n",
    "    :param s3_client: client for manipulating with S3 Bucket;\n",
    "    :param bucket_name: Bucket to upload to;\n",
    "    :param action: string for defining actions that be used for manipulating with file;\n",
    "    :param file_path: local file path for manipulating;\n",
    "    :param bucket_file_name: S3 bucket file name (if not specified then file_path name will be used);\n",
    "    :return: True if action have success, else False.\n",
    "    \"\"\"\n",
    "    match action:\n",
    "        case \"upload\":\n",
    "            # If s3 bucket file name was not specified, use file_name with 's3_' in begin of the file name\n",
    "            if bucket_file_name is None:\n",
    "                bucket_file_name = \"s3_\" + os.path.basename(file_path)\n",
    "\n",
    "            # Upload the file\n",
    "            try:\n",
    "                s3_client.upload_file(file_path, bucket_name, bucket_file_name)\n",
    "            except ClientError as e:\n",
    "                logging.error(e)\n",
    "                return False\n",
    "            return True\n",
    "        case \"download\":\n",
    "            # If file_name was not specified, use file_name\n",
    "            if file_path is None:\n",
    "                file_path = \"../output/\" + os.path.basename(bucket_file_name)\n",
    "\n",
    "            # Download the file\n",
    "            try:\n",
    "                s3_client.download_file(bucket_name, bucket_file_name, file_path)\n",
    "            except ClientError as e:\n",
    "                logging.error(e)\n",
    "                return False\n",
    "            return True"
   ],
   "metadata": {
    "collapsed": false,
    "ExecuteTime": {
     "start_time": "2023-04-01T10:23:19.662207Z",
     "end_time": "2023-04-01T10:23:19.705256Z"
    }
   }
  },
  {
   "cell_type": "markdown",
   "source": [
    "## Upload files to s3 bucket"
   ],
   "metadata": {
    "collapsed": false
   }
  },
  {
   "cell_type": "code",
   "execution_count": 2,
   "outputs": [
    {
     "name": "stdout",
     "output_type": "stream",
     "text": [
      "Existing buckets:\n",
      "\tlab2itbucket\n"
     ]
    }
   ],
   "source": [
    "# View existing buckets\n",
    "s3 = boto3.client('s3')\n",
    "response = s3.list_buckets()\n",
    "# Output the bucket names\n",
    "print(\"Existing buckets:\")\n",
    "for bucket in response[\"Buckets\"]:\n",
    "    print(f\"\\t{bucket['Name']}\")"
   ],
   "metadata": {
    "collapsed": false,
    "ExecuteTime": {
     "start_time": "2023-04-01T10:16:50.706632Z",
     "end_time": "2023-04-01T10:16:51.395338Z"
    }
   }
  },
  {
   "cell_type": "code",
   "execution_count": 9,
   "outputs": [],
   "source": [
    "# Define bucket name\n",
    "s3_bucket = \"lab2itbucket\""
   ],
   "metadata": {
    "collapsed": false,
    "ExecuteTime": {
     "start_time": "2023-04-01T10:36:59.023223Z",
     "end_time": "2023-04-01T10:36:59.063318Z"
    }
   }
  },
  {
   "cell_type": "code",
   "execution_count": 5,
   "outputs": [
    {
     "name": "stdout",
     "output_type": "stream",
     "text": [
      "eur_currency.csv  usd_currency.csv\r\n"
     ]
    }
   ],
   "source": [
    "# Check existing files\n",
    "!ls output/"
   ],
   "metadata": {
    "collapsed": false,
    "ExecuteTime": {
     "start_time": "2023-04-01T10:23:24.186073Z",
     "end_time": "2023-04-01T10:23:24.330238Z"
    }
   }
  },
  {
   "cell_type": "code",
   "execution_count": 40,
   "outputs": [
    {
     "data": {
      "text/plain": "True"
     },
     "execution_count": 40,
     "metadata": {},
     "output_type": "execute_result"
    }
   ],
   "source": [
    "# Upload files to S3 bucket\n",
    "s3_file_actions(eur_path, s3_bucket, \"upload\", \"s3_eur_currency.csv\")\n",
    "s3_file_actions(usd_path, s3_bucket, \"upload\", \"s3_usd_currency.csv\")"
   ],
   "metadata": {
    "collapsed": false,
    "ExecuteTime": {
     "start_time": "2023-04-01T10:51:36.607402Z",
     "end_time": "2023-04-01T10:51:37.146978Z"
    }
   }
  },
  {
   "cell_type": "markdown",
   "source": [
    "## Download files from s3 bucket"
   ],
   "metadata": {
    "collapsed": false
   }
  },
  {
   "cell_type": "code",
   "execution_count": 41,
   "outputs": [
    {
     "data": {
      "text/plain": "True"
     },
     "execution_count": 41,
     "metadata": {},
     "output_type": "execute_result"
    }
   ],
   "source": [
    "# Download file from S3 bucket\n",
    "s3_file_actions(\"output/s3_eur_currency.csv\", s3_bucket, \"download\", \"s3_eur_currency.csv\")\n",
    "s3_file_actions(\"output/s3_usd_currency.csv\", s3_bucket, \"download\",  \"s3_usd_currency.csv\")"
   ],
   "metadata": {
    "collapsed": false,
    "ExecuteTime": {
     "start_time": "2023-04-01T10:51:37.751375Z",
     "end_time": "2023-04-01T10:51:38.498811Z"
    }
   }
  },
  {
   "cell_type": "code",
   "execution_count": 13,
   "outputs": [
    {
     "name": "stdout",
     "output_type": "stream",
     "text": [
      "eur_currency.csv  s3_eur_currency.csv  s3_usd_currency.csv  usd_currency.csv\r\n"
     ]
    }
   ],
   "source": [
    "# Check existing files\n",
    "!ls output/"
   ],
   "metadata": {
    "collapsed": false,
    "ExecuteTime": {
     "start_time": "2023-04-01T10:38:39.763016Z",
     "end_time": "2023-04-01T10:38:39.892250Z"
    }
   }
  },
  {
   "cell_type": "markdown",
   "source": [
    "## Visualise exchange rate chart"
   ],
   "metadata": {
    "collapsed": false
   }
  },
  {
   "cell_type": "code",
   "execution_count": 42,
   "outputs": [],
   "source": [
    "# Take data from files\n",
    "eur_df = pd.read_csv(\"output/s3_eur_currency.csv\")\n",
    "usd_df = pd.read_csv(\"output/s3_usd_currency.csv\")"
   ],
   "metadata": {
    "collapsed": false,
    "ExecuteTime": {
     "start_time": "2023-04-01T10:51:40.404479Z",
     "end_time": "2023-04-01T10:51:40.450561Z"
    }
   }
  },
  {
   "cell_type": "code",
   "execution_count": 43,
   "outputs": [
    {
     "data": {
      "text/plain": "   Unnamed: 0        date currency     rate  units  rate_per_unit    calcdate\n0           0  01.01.2021     Euro  34.7396      1        34.7396  30.12.2020\n1           1  02.01.2021     Euro  34.7396      1        34.7396  30.12.2020\n2           2  03.01.2021     Euro  34.7396      1        34.7396  30.12.2020\n3           3  04.01.2021     Euro  34.7396      1        34.7396  30.12.2020\n4           4  05.01.2021     Euro  34.9389      1        34.9389  04.01.2021",
      "text/html": "<div>\n<style scoped>\n    .dataframe tbody tr th:only-of-type {\n        vertical-align: middle;\n    }\n\n    .dataframe tbody tr th {\n        vertical-align: top;\n    }\n\n    .dataframe thead th {\n        text-align: right;\n    }\n</style>\n<table border=\"1\" class=\"dataframe\">\n  <thead>\n    <tr style=\"text-align: right;\">\n      <th></th>\n      <th>Unnamed: 0</th>\n      <th>date</th>\n      <th>currency</th>\n      <th>rate</th>\n      <th>units</th>\n      <th>rate_per_unit</th>\n      <th>calcdate</th>\n    </tr>\n  </thead>\n  <tbody>\n    <tr>\n      <th>0</th>\n      <td>0</td>\n      <td>01.01.2021</td>\n      <td>Euro</td>\n      <td>34.7396</td>\n      <td>1</td>\n      <td>34.7396</td>\n      <td>30.12.2020</td>\n    </tr>\n    <tr>\n      <th>1</th>\n      <td>1</td>\n      <td>02.01.2021</td>\n      <td>Euro</td>\n      <td>34.7396</td>\n      <td>1</td>\n      <td>34.7396</td>\n      <td>30.12.2020</td>\n    </tr>\n    <tr>\n      <th>2</th>\n      <td>2</td>\n      <td>03.01.2021</td>\n      <td>Euro</td>\n      <td>34.7396</td>\n      <td>1</td>\n      <td>34.7396</td>\n      <td>30.12.2020</td>\n    </tr>\n    <tr>\n      <th>3</th>\n      <td>3</td>\n      <td>04.01.2021</td>\n      <td>Euro</td>\n      <td>34.7396</td>\n      <td>1</td>\n      <td>34.7396</td>\n      <td>30.12.2020</td>\n    </tr>\n    <tr>\n      <th>4</th>\n      <td>4</td>\n      <td>05.01.2021</td>\n      <td>Euro</td>\n      <td>34.9389</td>\n      <td>1</td>\n      <td>34.9389</td>\n      <td>04.01.2021</td>\n    </tr>\n  </tbody>\n</table>\n</div>"
     },
     "execution_count": 43,
     "metadata": {},
     "output_type": "execute_result"
    }
   ],
   "source": [
    "# Check eur_df\n",
    "eur_df.head()"
   ],
   "metadata": {
    "collapsed": false,
    "ExecuteTime": {
     "start_time": "2023-04-01T10:51:40.695881Z",
     "end_time": "2023-04-01T10:51:40.715919Z"
    }
   }
  },
  {
   "cell_type": "code",
   "execution_count": 35,
   "outputs": [
    {
     "data": {
      "text/plain": "   Unnamed: 0        date   currency     rate  units  rate_per_unit  \\\n0           0  01.01.2021  US Dollar  28.2746      1        28.2746   \n1           1  02.01.2021  US Dollar  28.2746      1        28.2746   \n2           2  03.01.2021  US Dollar  28.2746      1        28.2746   \n3           3  04.01.2021  US Dollar  28.2746      1        28.2746   \n4           4  05.01.2021  US Dollar  28.4310      1        28.4310   \n\n     calcdate  \n0  30.12.2020  \n1  30.12.2020  \n2  30.12.2020  \n3  30.12.2020  \n4  04.01.2021  ",
      "text/html": "<div>\n<style scoped>\n    .dataframe tbody tr th:only-of-type {\n        vertical-align: middle;\n    }\n\n    .dataframe tbody tr th {\n        vertical-align: top;\n    }\n\n    .dataframe thead th {\n        text-align: right;\n    }\n</style>\n<table border=\"1\" class=\"dataframe\">\n  <thead>\n    <tr style=\"text-align: right;\">\n      <th></th>\n      <th>Unnamed: 0</th>\n      <th>date</th>\n      <th>currency</th>\n      <th>rate</th>\n      <th>units</th>\n      <th>rate_per_unit</th>\n      <th>calcdate</th>\n    </tr>\n  </thead>\n  <tbody>\n    <tr>\n      <th>0</th>\n      <td>0</td>\n      <td>01.01.2021</td>\n      <td>US Dollar</td>\n      <td>28.2746</td>\n      <td>1</td>\n      <td>28.2746</td>\n      <td>30.12.2020</td>\n    </tr>\n    <tr>\n      <th>1</th>\n      <td>1</td>\n      <td>02.01.2021</td>\n      <td>US Dollar</td>\n      <td>28.2746</td>\n      <td>1</td>\n      <td>28.2746</td>\n      <td>30.12.2020</td>\n    </tr>\n    <tr>\n      <th>2</th>\n      <td>2</td>\n      <td>03.01.2021</td>\n      <td>US Dollar</td>\n      <td>28.2746</td>\n      <td>1</td>\n      <td>28.2746</td>\n      <td>30.12.2020</td>\n    </tr>\n    <tr>\n      <th>3</th>\n      <td>3</td>\n      <td>04.01.2021</td>\n      <td>US Dollar</td>\n      <td>28.2746</td>\n      <td>1</td>\n      <td>28.2746</td>\n      <td>30.12.2020</td>\n    </tr>\n    <tr>\n      <th>4</th>\n      <td>4</td>\n      <td>05.01.2021</td>\n      <td>US Dollar</td>\n      <td>28.4310</td>\n      <td>1</td>\n      <td>28.4310</td>\n      <td>04.01.2021</td>\n    </tr>\n  </tbody>\n</table>\n</div>"
     },
     "execution_count": 35,
     "metadata": {},
     "output_type": "execute_result"
    }
   ],
   "source": [
    "# Check usd_df\n",
    "usd_df.head()"
   ],
   "metadata": {
    "collapsed": false,
    "ExecuteTime": {
     "start_time": "2023-04-01T10:51:02.506442Z",
     "end_time": "2023-04-01T10:51:02.506442Z"
    }
   }
  },
  {
   "cell_type": "code",
   "execution_count": 48,
   "outputs": [
    {
     "data": {
      "text/plain": "<Figure size 640x480 with 1 Axes>",
      "image/png": "[encoded data removed]"
     },
     "metadata": {},
     "output_type": "display_data"
    },
    {
     "data": {
      "text/plain": "<Figure size 640x480 with 0 Axes>"
     },
     "metadata": {},
     "output_type": "display_data"
    }
   ],
   "source": [
    "# Create chart for Euro\n",
    "eur_df.plot(x=\"date\", y=\"rate\", kind=\"line\")\n",
    "plt.title(\"Euro\")\n",
    "plt.show()\n",
    "plt.savefig(\"output/eur_chart.png\")"
   ],
   "metadata": {
    "collapsed": false,
    "ExecuteTime": {
     "start_time": "2023-04-01T10:54:24.028973Z",
     "end_time": "2023-04-01T10:54:24.276307Z"
    }
   }
  },
  {
   "cell_type": "code",
   "execution_count": 49,
   "outputs": [
    {
     "data": {
      "text/plain": "<Figure size 640x480 with 1 Axes>",
      "image/png": "[encoded data removed]"
     },
     "metadata": {},
     "output_type": "display_data"
    },
    {
     "data": {
      "text/plain": "<Figure size 640x480 with 0 Axes>"
     },
     "metadata": {},
     "output_type": "display_data"
    }
   ],
   "source": [
    "# Create chart for US Dollar\n",
    "usd_df.plot(x=\"date\", y=\"rate\", kind=\"line\")\n",
    "plt.title(\"US Dollar\")\n",
    "plt.show()\n",
    "plt.savefig(\"output/usd_chart.png\")"
   ],
   "metadata": {
    "collapsed": false,
    "ExecuteTime": {
     "start_time": "2023-04-01T10:54:25.165277Z",
     "end_time": "2023-04-01T10:54:25.416748Z"
    }
   }
  },
  {
   "cell_type": "markdown",
   "source": [
    "### Save chart to s3 bucket"
   ],
   "metadata": {
    "collapsed": false
   }
  },
  {
   "cell_type": "code",
   "execution_count": 50,
   "outputs": [
    {
     "data": {
      "text/plain": "True"
     },
     "execution_count": 50,
     "metadata": {},
     "output_type": "execute_result"
    }
   ],
   "source": [
    "# Upload Chart to s3 bucket\n",
    "s3_file_actions(\"output/eur_chart.png\", s3_bucket, \"upload\", \"s3_eur_chart.png\")\n",
    "s3_file_actions(\"output/eur_chart.png\", s3_bucket, \"upload\", \"s3_usd_chart.png\")"
   ],
   "metadata": {
    "collapsed": false,
    "ExecuteTime": {
     "start_time": "2023-04-01T10:55:23.443873Z",
     "end_time": "2023-04-01T10:55:24.011484Z"
    }
   }
  }
 ],
 "metadata": {
  "kernelspec": {
   "display_name": "Python 3",
   "language": "python",
   "name": "python3"
  },
  "language_info": {
   "codemirror_mode": {
    "name": "ipython",
    "version": 2
   },
   "file_extension": ".py",
   "mimetype": "text/x-python",
   "name": "python",
   "nbconvert_exporter": "python",
   "pygments_lexer": "ipython2",
   "version": "2.7.6"
  }
 },
 "nbformat": 4,
 "nbformat_minor": 0
}
