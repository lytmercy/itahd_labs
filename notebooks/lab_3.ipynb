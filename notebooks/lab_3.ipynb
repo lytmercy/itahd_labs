{
 "cells": [
  {
   "cell_type": "code",
   "execution_count": 66,
   "metadata": {
    "collapsed": true,
    "ExecuteTime": {
     "start_time": "2023-04-22T11:35:28.758907Z",
     "end_time": "2023-04-22T11:35:28.798906Z"
    }
   },
   "outputs": [],
   "source": [
    "# Importing libraries for interaction with AWS\n",
    "import boto3\n",
    "from botocore.exceptions import ClientError\n",
    "from boto3.dynamodb.conditions import Key, Attr\n",
    "# Importing library for request data from web\n",
    "from requests import get\n",
    "# Importing library for converting json data to csv data\n",
    "import pandas as pd\n",
    "# Importing library for manipulating with arrays\n",
    "import numpy as np\n",
    "# Importing library for visualizing data\n",
    "import matplotlib.pyplot as plt\n",
    "# Import other libraries\n",
    "from decimal import Decimal\n",
    "from pathlib import Path\n",
    "import logging\n",
    "from time import sleep\n",
    "import os"
   ]
  },
  {
   "cell_type": "markdown",
   "source": [
    "## Construct class for manipulating with DynamoDB through AWS SDK for Python"
   ],
   "metadata": {
    "collapsed": false
   }
  },
  {
   "cell_type": "code",
   "execution_count": 53,
   "outputs": [],
   "source": [
    "class Currency:\n",
    "    \"\"\"\"\"\"\n",
    "    def __init__(self, dyn_resource):\n",
    "        \"\"\"\"\"\"\n",
    "        self.dyn_resource = dyn_resource\n",
    "        self.table = None\n",
    "\n",
    "    def create_table(self, table_name):\n",
    "        \"\"\"\n",
    "\n",
    "        :param table_name:\n",
    "        :return: The newly created table.\n",
    "        \"\"\"\n",
    "        try:\n",
    "            self.table = self.dyn_resource.create_table(\n",
    "                TableName=table_name,\n",
    "                KeySchema=[\n",
    "                    {\"AttributeName\": \"py_prt_key\", \"KeyType\": \"HASH\"},  # Partition key\n",
    "                    {\"AttributeName\": \"py_srt_key\", \"KeyType\": \"RANGE\"}  # Sort key\n",
    "                ],\n",
    "                AttributeDefinitions=[\n",
    "                    {\"AttributeName\": \"py_prt_key\", \"AttributeType\": \"S\"},\n",
    "                    {\"AttributeName\": \"py_srt_key\", \"AttributeType\": \"N\"}\n",
    "                ],\n",
    "                ProvisionedThroughput={\"ReadCapacityUnits\": 10, \"WriteCapacityUnits\": 10}\n",
    "            )\n",
    "            self.table.wait_until_exists()\n",
    "        except ClientError as err:\n",
    "            print(\"Couldn't create table {}. Here's why: {}: {}\".format(table_name,\n",
    "                  err.response[\"Error\"][\"Code\"], err.response[\"Error\"][\"Message\"]))\n",
    "            raise\n",
    "        else:\n",
    "            return self.table\n",
    "\n",
    "    def exist_table(self, table_name):\n",
    "        \"\"\"\"\"\"\n",
    "        self.table = self.dyn_resource.Table(table_name)\n",
    "        print(\"Use table {} which creation date time is: {}\".format(self.table.name,\n",
    "                                                                    self.table.creation_date_time))\n",
    "\n",
    "    def add_item(self, py_prt_key, py_srt_key, currency, date, rate):\n",
    "        \"\"\"\"\"\"\n",
    "        try:\n",
    "            self.table.put_item(\n",
    "                Item={\n",
    "                    \"py_prt_key\": py_prt_key,\n",
    "                    \"py_srt_key\": py_srt_key,\n",
    "                    \"currency\": currency,\n",
    "                    \"date\": date,\n",
    "                    \"rate\": rate\n",
    "                }\n",
    "            )\n",
    "        except ClientError as err:\n",
    "            print(\"Couldn't add currency {} to table {}. Here's why: {}: {}\".format(py_prt_key, self.table.name,\n",
    "                  err.response[\"Error\"][\"Code\"], err.response[\"Error\"][\"Message\"]))\n",
    "            raise\n",
    "        else:\n",
    "            print(\"Item {}-{} successfully added to the table {}\".format(py_prt_key, py_srt_key,\n",
    "                                                                       self.table.name))\n",
    "\n",
    "    def multi_write_items(self, items):\n",
    "        \"\"\"\"\"\"\n",
    "        try:\n",
    "            with self.table.batch_writer() as writer:\n",
    "                for i, item in enumerate(items):\n",
    "                    writer.put_item(Item=item)\n",
    "                    if i == 9:\n",
    "                        # sleep(5)\n",
    "                        break\n",
    "        except ClientError as err:\n",
    "            print(\"Couldn't load data into table {}. Here's why: {}: {}\".format(self.table.name,\n",
    "                  err.response[\"Error\"][\"Code\"], err.response[\"Error\"][\"Message\"]))\n",
    "            raise\n",
    "        else:\n",
    "            print(\"All items successfully added to the table {}\".format(self.table.name))\n",
    "\n",
    "    def delete_item(self, py_prt_key, py_srt_key):\n",
    "        \"\"\"\"\"\"\n",
    "        try:\n",
    "            self.table.delete_item(Key={\"py_prt_key\": py_prt_key, \"py_srt_key\": py_srt_key})\n",
    "        except ClientError as err:\n",
    "            print(\"Couldn't delete currency {}. Here's why: {}: {}\".format(py_prt_key,\n",
    "                  err.response[\"Error\"][\"Code\"], err.response[\"Error\"][\"Message\"]))\n",
    "            raise\n",
    "        else:\n",
    "            print(\"Item {}-{} successfully delete from the table {}\".format(py_prt_key, py_srt_key,\n",
    "                                                                            self.table.name))\n",
    "\n",
    "    def query_table(self, py_prt_key, srt_gt_key):\n",
    "        \"\"\"\"\"\"\n",
    "        try:\n",
    "            response = self.table.query(\n",
    "                KeyConditionExpression=(\n",
    "                        Key(\"py_prt_key\").eq(py_prt_key) &\n",
    "                        Key(\"py_srt_key\").gt(srt_gt_key)\n",
    "                )\n",
    "            )\n",
    "        except ClientError as err:\n",
    "            if err.response[\"Error\"][\"Code\"] == \"ValidationException\":\n",
    "                print(\"There's a validation error. Here's the message: {}: {}\".format(\n",
    "                      err.response[\"Error\"][\"Code\"], err.response[\"Error\"][\"Message\"]))\n",
    "            else:\n",
    "                print(\"Couldn't query for table {}. Here's why: {}: {}\".format(self.table.name,\n",
    "                      err.response[\"Error\"][\"Code\"], err.response[\"Error\"][\"Message\"]))\n",
    "                raise\n",
    "        else:\n",
    "            return response[\"Items\"]"
   ],
   "metadata": {
    "collapsed": false,
    "ExecuteTime": {
     "start_time": "2023-04-22T11:29:10.111181Z",
     "end_time": "2023-04-22T11:29:10.192181Z"
    }
   }
  },
  {
   "cell_type": "markdown",
   "source": [
    "## Creating table on Amazon DynamoDB"
   ],
   "metadata": {
    "collapsed": false
   }
  },
  {
   "cell_type": "code",
   "execution_count": 4,
   "outputs": [],
   "source": [
    "# Define boto3 DynamoDB resource\n",
    "dynamodb = boto3.resource(\"dynamodb\")"
   ],
   "metadata": {
    "collapsed": false,
    "ExecuteTime": {
     "start_time": "2023-04-22T11:03:26.904846Z",
     "end_time": "2023-04-22T11:03:27.410894Z"
    }
   }
  },
  {
   "cell_type": "code",
   "execution_count": 54,
   "outputs": [],
   "source": [
    "# Define class with all methods for manipulating with\n",
    "aws_py_class = Currency(dynamodb)"
   ],
   "metadata": {
    "collapsed": false,
    "ExecuteTime": {
     "start_time": "2023-04-22T11:30:09.532398Z",
     "end_time": "2023-04-22T11:30:09.609552Z"
    }
   }
  },
  {
   "cell_type": "code",
   "execution_count": 7,
   "outputs": [
    {
     "data": {
      "text/plain": "dynamodb.Table(name='aws_py_table')"
     },
     "execution_count": 7,
     "metadata": {},
     "output_type": "execute_result"
    }
   ],
   "source": [
    "# Creating table\n",
    "aws_py_class.create_table(\"aws_py_table\")"
   ],
   "metadata": {
    "collapsed": false,
    "ExecuteTime": {
     "start_time": "2023-04-22T09:57:25.965982Z",
     "end_time": "2023-04-22T09:57:46.483291Z"
    }
   }
  },
  {
   "cell_type": "markdown",
   "source": [
    "## Adding items to the table"
   ],
   "metadata": {
    "collapsed": false
   }
  },
  {
   "cell_type": "code",
   "execution_count": 55,
   "outputs": [
    {
     "name": "stdout",
     "output_type": "stream",
     "text": [
      "Use table aws_py_table which creation date time is: 2023-04-22 06:57:25.661000+00:00\n"
     ]
    }
   ],
   "source": [
    "# Use existing table\n",
    "aws_py_class.exist_table(\"aws_py_table\")"
   ],
   "metadata": {
    "collapsed": false,
    "ExecuteTime": {
     "start_time": "2023-04-22T11:30:11.527567Z",
     "end_time": "2023-04-22T11:30:11.711853Z"
    }
   }
  },
  {
   "cell_type": "markdown",
   "source": [
    "### Adding an item per query"
   ],
   "metadata": {
    "collapsed": false
   }
  },
  {
   "cell_type": "code",
   "execution_count": 7,
   "outputs": [
    {
     "name": "stdout",
     "output_type": "stream",
     "text": [
      "Item eur-0 successfully put to the table aws_py_table\n"
     ]
    }
   ],
   "source": [
    "# Adding one item to the table\n",
    "aws_py_class.add_item(\"eur\", 0, \"Euro\", [1, 1, 2021], Decimal(str(34.7396)))"
   ],
   "metadata": {
    "collapsed": false,
    "ExecuteTime": {
     "start_time": "2023-04-22T11:03:36.535957Z",
     "end_time": "2023-04-22T11:03:36.589013Z"
    }
   }
  },
  {
   "cell_type": "markdown",
   "source": [
    "## Deleting an item from the table"
   ],
   "metadata": {
    "collapsed": false
   }
  },
  {
   "cell_type": "code",
   "execution_count": 39,
   "outputs": [
    {
     "name": "stdout",
     "output_type": "stream",
     "text": [
      "Item eur-1 successfully put to the table aws_py_table\n"
     ]
    }
   ],
   "source": [
    "# Adding another item to the table\n",
    "aws_py_class.add_item(\"eur\", 1, \"Euro\", [5, 1, 2021], Decimal(str(34.9389)))"
   ],
   "metadata": {
    "collapsed": false,
    "ExecuteTime": {
     "start_time": "2023-04-22T10:47:26.177897Z",
     "end_time": "2023-04-22T10:47:26.358950Z"
    }
   }
  },
  {
   "cell_type": "code",
   "execution_count": 56,
   "outputs": [
    {
     "name": "stdout",
     "output_type": "stream",
     "text": [
      "Item eur-0 successfully delete from the table aws_py_table\n"
     ]
    }
   ],
   "source": [
    "# Deleting one item from table\n",
    "aws_py_class.delete_item(\"eur\", 0)"
   ],
   "metadata": {
    "collapsed": false,
    "ExecuteTime": {
     "start_time": "2023-04-22T11:31:04.843563Z",
     "end_time": "2023-04-22T11:31:04.923563Z"
    }
   }
  },
  {
   "cell_type": "markdown",
   "source": [
    "### Multi-writing an items for the table"
   ],
   "metadata": {
    "collapsed": false
   }
  },
  {
   "cell_type": "code",
   "execution_count": 43,
   "outputs": [
    {
     "name": "stdout",
     "output_type": "stream",
     "text": [
      "Item eur-1 successfully delete from the table aws_py_table\n"
     ]
    }
   ],
   "source": [
    "# Deleting last item from table\n",
    "aws_py_class.delete_item(\"eur\", 1)"
   ],
   "metadata": {
    "collapsed": false,
    "ExecuteTime": {
     "start_time": "2023-04-22T11:26:23.056156Z",
     "end_time": "2023-04-22T11:26:23.248427Z"
    }
   }
  },
  {
   "cell_type": "code",
   "execution_count": 57,
   "outputs": [],
   "source": [
    "# Read currency data from csv file\n",
    "csv_path = \"output/eur_currency.csv\"\n",
    "eur_df = pd.read_csv(csv_path)"
   ],
   "metadata": {
    "collapsed": false,
    "ExecuteTime": {
     "start_time": "2023-04-22T11:31:15.027198Z",
     "end_time": "2023-04-22T11:31:15.072198Z"
    }
   }
  },
  {
   "cell_type": "code",
   "execution_count": 58,
   "outputs": [
    {
     "data": {
      "text/plain": "2555"
     },
     "execution_count": 58,
     "metadata": {},
     "output_type": "execute_result"
    }
   ],
   "source": [
    "# View size of DataFrame\n",
    "eur_df.size"
   ],
   "metadata": {
    "collapsed": false,
    "ExecuteTime": {
     "start_time": "2023-04-22T11:31:15.462301Z",
     "end_time": "2023-04-22T11:31:15.536308Z"
    }
   }
  },
  {
   "cell_type": "code",
   "execution_count": 59,
   "outputs": [
    {
     "data": {
      "text/plain": "   Unnamed: 0        date currency     rate  units  rate_per_unit    calcdate\n0           0  01.01.2021     Euro  34.7396      1        34.7396  30.12.2020\n1           1  02.01.2021     Euro  34.7396      1        34.7396  30.12.2020\n2           2  03.01.2021     Euro  34.7396      1        34.7396  30.12.2020\n3           3  04.01.2021     Euro  34.7396      1        34.7396  30.12.2020\n4           4  05.01.2021     Euro  34.9389      1        34.9389  04.01.2021",
      "text/html": "<div>\n<style scoped>\n    .dataframe tbody tr th:only-of-type {\n        vertical-align: middle;\n    }\n\n    .dataframe tbody tr th {\n        vertical-align: top;\n    }\n\n    .dataframe thead th {\n        text-align: right;\n    }\n</style>\n<table border=\"1\" class=\"dataframe\">\n  <thead>\n    <tr style=\"text-align: right;\">\n      <th></th>\n      <th>Unnamed: 0</th>\n      <th>date</th>\n      <th>currency</th>\n      <th>rate</th>\n      <th>units</th>\n      <th>rate_per_unit</th>\n      <th>calcdate</th>\n    </tr>\n  </thead>\n  <tbody>\n    <tr>\n      <th>0</th>\n      <td>0</td>\n      <td>01.01.2021</td>\n      <td>Euro</td>\n      <td>34.7396</td>\n      <td>1</td>\n      <td>34.7396</td>\n      <td>30.12.2020</td>\n    </tr>\n    <tr>\n      <th>1</th>\n      <td>1</td>\n      <td>02.01.2021</td>\n      <td>Euro</td>\n      <td>34.7396</td>\n      <td>1</td>\n      <td>34.7396</td>\n      <td>30.12.2020</td>\n    </tr>\n    <tr>\n      <th>2</th>\n      <td>2</td>\n      <td>03.01.2021</td>\n      <td>Euro</td>\n      <td>34.7396</td>\n      <td>1</td>\n      <td>34.7396</td>\n      <td>30.12.2020</td>\n    </tr>\n    <tr>\n      <th>3</th>\n      <td>3</td>\n      <td>04.01.2021</td>\n      <td>Euro</td>\n      <td>34.7396</td>\n      <td>1</td>\n      <td>34.7396</td>\n      <td>30.12.2020</td>\n    </tr>\n    <tr>\n      <th>4</th>\n      <td>4</td>\n      <td>05.01.2021</td>\n      <td>Euro</td>\n      <td>34.9389</td>\n      <td>1</td>\n      <td>34.9389</td>\n      <td>04.01.2021</td>\n    </tr>\n  </tbody>\n</table>\n</div>"
     },
     "execution_count": 59,
     "metadata": {},
     "output_type": "execute_result"
    }
   ],
   "source": [
    "# View on DataFrame\n",
    "eur_df.head()"
   ],
   "metadata": {
    "collapsed": false,
    "ExecuteTime": {
     "start_time": "2023-04-22T11:31:16.382482Z",
     "end_time": "2023-04-22T11:31:16.431531Z"
    }
   }
  },
  {
   "cell_type": "code",
   "execution_count": 60,
   "outputs": [],
   "source": [
    "# Drop unnecessary column\n",
    "eur_df = eur_df.drop(columns=[\"Unnamed: 0\", \"units\", \"rate_per_unit\", \"calcdate\"])"
   ],
   "metadata": {
    "collapsed": false,
    "ExecuteTime": {
     "start_time": "2023-04-22T11:31:18.096436Z",
     "end_time": "2023-04-22T11:31:18.140434Z"
    }
   }
  },
  {
   "cell_type": "code",
   "execution_count": 61,
   "outputs": [
    {
     "data": {
      "text/plain": "         date currency     rate\n0  01.01.2021     Euro  34.7396\n1  02.01.2021     Euro  34.7396\n2  03.01.2021     Euro  34.7396\n3  04.01.2021     Euro  34.7396\n4  05.01.2021     Euro  34.9389",
      "text/html": "<div>\n<style scoped>\n    .dataframe tbody tr th:only-of-type {\n        vertical-align: middle;\n    }\n\n    .dataframe tbody tr th {\n        vertical-align: top;\n    }\n\n    .dataframe thead th {\n        text-align: right;\n    }\n</style>\n<table border=\"1\" class=\"dataframe\">\n  <thead>\n    <tr style=\"text-align: right;\">\n      <th></th>\n      <th>date</th>\n      <th>currency</th>\n      <th>rate</th>\n    </tr>\n  </thead>\n  <tbody>\n    <tr>\n      <th>0</th>\n      <td>01.01.2021</td>\n      <td>Euro</td>\n      <td>34.7396</td>\n    </tr>\n    <tr>\n      <th>1</th>\n      <td>02.01.2021</td>\n      <td>Euro</td>\n      <td>34.7396</td>\n    </tr>\n    <tr>\n      <th>2</th>\n      <td>03.01.2021</td>\n      <td>Euro</td>\n      <td>34.7396</td>\n    </tr>\n    <tr>\n      <th>3</th>\n      <td>04.01.2021</td>\n      <td>Euro</td>\n      <td>34.7396</td>\n    </tr>\n    <tr>\n      <th>4</th>\n      <td>05.01.2021</td>\n      <td>Euro</td>\n      <td>34.9389</td>\n    </tr>\n  </tbody>\n</table>\n</div>"
     },
     "execution_count": 61,
     "metadata": {},
     "output_type": "execute_result"
    }
   ],
   "source": [
    "# View after drop column\n",
    "eur_df.head()"
   ],
   "metadata": {
    "collapsed": false,
    "ExecuteTime": {
     "start_time": "2023-04-22T11:31:19.299085Z",
     "end_time": "2023-04-22T11:31:19.344083Z"
    }
   }
  },
  {
   "cell_type": "code",
   "execution_count": 62,
   "outputs": [],
   "source": [
    "# Define items array with dict per item\n",
    "items = np.array([])"
   ],
   "metadata": {
    "collapsed": false,
    "ExecuteTime": {
     "start_time": "2023-04-22T11:31:26.763923Z",
     "end_time": "2023-04-22T11:31:26.807923Z"
    }
   }
  },
  {
   "cell_type": "code",
   "execution_count": 63,
   "outputs": [],
   "source": [
    "# Fill items array with items\n",
    "for i, row in enumerate(eur_df.values.tolist()):\n",
    "    currency_item = {\n",
    "        \"py_prt_key\": \"eur\",\n",
    "        \"py_srt_key\": i,\n",
    "        \"currency\": row[1],\n",
    "        \"date\": [int(date) for date in row[0].split('.')],\n",
    "        \"rate\": Decimal(str(row[2]))\n",
    "    }\n",
    "    items = np.concatenate([items, [currency_item]])"
   ],
   "metadata": {
    "collapsed": false,
    "ExecuteTime": {
     "start_time": "2023-04-22T11:31:29.754458Z",
     "end_time": "2023-04-22T11:31:29.801560Z"
    }
   }
  },
  {
   "cell_type": "code",
   "execution_count": 64,
   "outputs": [
    {
     "name": "stdout",
     "output_type": "stream",
     "text": [
      "{'py_prt_key': 'eur', 'py_srt_key': 0, 'currency': 'Euro', 'date': [1, 1, 2021], 'rate': Decimal('34.7396')}\n"
     ]
    }
   ],
   "source": [
    "# View on one element of items\n",
    "print(items[0])"
   ],
   "metadata": {
    "collapsed": false,
    "ExecuteTime": {
     "start_time": "2023-04-22T11:31:30.418788Z",
     "end_time": "2023-04-22T11:31:30.480785Z"
    }
   }
  },
  {
   "cell_type": "code",
   "execution_count": 65,
   "outputs": [
    {
     "name": "stdout",
     "output_type": "stream",
     "text": [
      "All items successfully added to the table aws_py_table\n"
     ]
    }
   ],
   "source": [
    "# Multi-writing an items for the table through batch_writer method from boto3 for table\n",
    "aws_py_class.multi_write_items(items)"
   ],
   "metadata": {
    "collapsed": false,
    "ExecuteTime": {
     "start_time": "2023-04-22T11:31:32.478963Z",
     "end_time": "2023-04-22T11:31:32.528961Z"
    }
   }
  },
  {
   "cell_type": "markdown",
   "source": [
    "## Searching item in the table"
   ],
   "metadata": {
    "collapsed": false
   }
  },
  {
   "cell_type": "code",
   "execution_count": 67,
   "outputs": [
    {
     "data": {
      "text/plain": "[{'date': [Decimal('7'), Decimal('1'), Decimal('2021')],\n  'currency': 'Euro',\n  'rate': Decimal('34.846'),\n  'py_srt_key': Decimal('6'),\n  'py_prt_key': 'eur'},\n {'date': [Decimal('8'), Decimal('1'), Decimal('2021')],\n  'currency': 'Euro',\n  'rate': Decimal('34.846'),\n  'py_srt_key': Decimal('7'),\n  'py_prt_key': 'eur'},\n {'date': [Decimal('9'), Decimal('1'), Decimal('2021')],\n  'currency': 'Euro',\n  'rate': Decimal('34.846'),\n  'py_srt_key': Decimal('8'),\n  'py_prt_key': 'eur'},\n {'date': [Decimal('10'), Decimal('1'), Decimal('2021')],\n  'currency': 'Euro',\n  'rate': Decimal('34.846'),\n  'py_srt_key': Decimal('9'),\n  'py_prt_key': 'eur'}]"
     },
     "execution_count": 67,
     "metadata": {},
     "output_type": "execute_result"
    }
   ],
   "source": [
    "# Query all items with py_srt_key greater than 5\n",
    "aws_py_class.query_table(\"eur\", 5)"
   ],
   "metadata": {
    "collapsed": false,
    "ExecuteTime": {
     "start_time": "2023-04-22T11:36:51.863011Z",
     "end_time": "2023-04-22T11:36:52.050372Z"
    }
   }
  }
 ],
 "metadata": {
  "kernelspec": {
   "display_name": "Python 3",
   "language": "python",
   "name": "python3"
  },
  "language_info": {
   "codemirror_mode": {
    "name": "ipython",
    "version": 2
   },
   "file_extension": ".py",
   "mimetype": "text/x-python",
   "name": "python",
   "nbconvert_exporter": "python",
   "pygments_lexer": "ipython2",
   "version": "2.7.6"
  }
 },
 "nbformat": 4,
 "nbformat_minor": 0
}
